{
 "cells": [
  {
   "cell_type": "code",
   "execution_count": 20,
   "metadata": {},
   "outputs": [],
   "source": [
    "import os\n",
    "import sys\n",
    "import io\n",
    "import numpy as np\n",
    "import matplotlib.pyplot as plt\n",
    "import pandas as pd\n"
   ]
  },
  {
   "cell_type": "code",
   "execution_count": 53,
   "metadata": {},
   "outputs": [
    {
     "data": {
      "text/plain": [
       "698901"
      ]
     },
     "execution_count": 53,
     "metadata": {},
     "output_type": "execute_result"
    }
   ],
   "source": [
    "df_matrix_train = pd.read_csv(\"C:/2019/The Port/FoodFlix/food-com-recipes-and-user-interactions/interactions_train.csv\")\n",
    "len(df_matrix_train)\n",
    "# 698901\n"
   ]
  },
  {
   "cell_type": "code",
   "execution_count": 54,
   "metadata": {},
   "outputs": [
    {
     "data": {
      "text/plain": [
       "12455"
      ]
     },
     "execution_count": 54,
     "metadata": {},
     "output_type": "execute_result"
    }
   ],
   "source": [
    "df_matrix_test= pd.read_csv(\"C:/2019/The Port/FoodFlix/food-com-recipes-and-user-interactions/interactions_test.csv\")\n",
    "len(df_matrix_test)"
   ]
  },
  {
   "cell_type": "code",
   "execution_count": 55,
   "metadata": {},
   "outputs": [
    {
     "data": {
      "text/html": [
       "<div>\n",
       "<style scoped>\n",
       "    .dataframe tbody tr th:only-of-type {\n",
       "        vertical-align: middle;\n",
       "    }\n",
       "\n",
       "    .dataframe tbody tr th {\n",
       "        vertical-align: top;\n",
       "    }\n",
       "\n",
       "    .dataframe thead th {\n",
       "        text-align: right;\n",
       "    }\n",
       "</style>\n",
       "<table border=\"1\" class=\"dataframe\">\n",
       "  <thead>\n",
       "    <tr style=\"text-align: right;\">\n",
       "      <th></th>\n",
       "      <th>user_id</th>\n",
       "      <th>recipe_id</th>\n",
       "      <th>date</th>\n",
       "      <th>rating</th>\n",
       "      <th>u</th>\n",
       "      <th>i</th>\n",
       "    </tr>\n",
       "  </thead>\n",
       "  <tbody>\n",
       "    <tr>\n",
       "      <th>0</th>\n",
       "      <td>8937</td>\n",
       "      <td>44551</td>\n",
       "      <td>2005-12-23</td>\n",
       "      <td>4.0</td>\n",
       "      <td>2</td>\n",
       "      <td>173538</td>\n",
       "    </tr>\n",
       "    <tr>\n",
       "      <th>1</th>\n",
       "      <td>56680</td>\n",
       "      <td>126118</td>\n",
       "      <td>2006-10-07</td>\n",
       "      <td>4.0</td>\n",
       "      <td>16</td>\n",
       "      <td>177847</td>\n",
       "    </tr>\n",
       "    <tr>\n",
       "      <th>2</th>\n",
       "      <td>349752</td>\n",
       "      <td>219596</td>\n",
       "      <td>2008-04-12</td>\n",
       "      <td>0.0</td>\n",
       "      <td>26</td>\n",
       "      <td>89896</td>\n",
       "    </tr>\n",
       "    <tr>\n",
       "      <th>3</th>\n",
       "      <td>628951</td>\n",
       "      <td>82783</td>\n",
       "      <td>2007-11-13</td>\n",
       "      <td>2.0</td>\n",
       "      <td>45</td>\n",
       "      <td>172637</td>\n",
       "    </tr>\n",
       "    <tr>\n",
       "      <th>4</th>\n",
       "      <td>92816</td>\n",
       "      <td>435013</td>\n",
       "      <td>2013-07-31</td>\n",
       "      <td>3.0</td>\n",
       "      <td>52</td>\n",
       "      <td>177935</td>\n",
       "    </tr>\n",
       "    <tr>\n",
       "      <th>5</th>\n",
       "      <td>280271</td>\n",
       "      <td>228179</td>\n",
       "      <td>2007-07-29</td>\n",
       "      <td>5.0</td>\n",
       "      <td>55</td>\n",
       "      <td>178179</td>\n",
       "    </tr>\n",
       "    <tr>\n",
       "      <th>6</th>\n",
       "      <td>345569</td>\n",
       "      <td>186470</td>\n",
       "      <td>2008-10-05</td>\n",
       "      <td>0.0</td>\n",
       "      <td>57</td>\n",
       "      <td>177482</td>\n",
       "    </tr>\n",
       "    <tr>\n",
       "      <th>7</th>\n",
       "      <td>724516</td>\n",
       "      <td>298748</td>\n",
       "      <td>2011-05-07</td>\n",
       "      <td>5.0</td>\n",
       "      <td>71</td>\n",
       "      <td>177749</td>\n",
       "    </tr>\n",
       "    <tr>\n",
       "      <th>8</th>\n",
       "      <td>176615</td>\n",
       "      <td>118119</td>\n",
       "      <td>2006-10-27</td>\n",
       "      <td>0.0</td>\n",
       "      <td>82</td>\n",
       "      <td>178250</td>\n",
       "    </tr>\n",
       "    <tr>\n",
       "      <th>9</th>\n",
       "      <td>56112</td>\n",
       "      <td>166712</td>\n",
       "      <td>2007-08-02</td>\n",
       "      <td>5.0</td>\n",
       "      <td>89</td>\n",
       "      <td>177821</td>\n",
       "    </tr>\n",
       "    <tr>\n",
       "      <th>10</th>\n",
       "      <td>537179</td>\n",
       "      <td>78641</td>\n",
       "      <td>2009-11-20</td>\n",
       "      <td>4.0</td>\n",
       "      <td>91</td>\n",
       "      <td>177805</td>\n",
       "    </tr>\n",
       "    <tr>\n",
       "      <th>11</th>\n",
       "      <td>222478</td>\n",
       "      <td>437144</td>\n",
       "      <td>2010-11-09</td>\n",
       "      <td>5.0</td>\n",
       "      <td>97</td>\n",
       "      <td>178178</td>\n",
       "    </tr>\n",
       "    <tr>\n",
       "      <th>12</th>\n",
       "      <td>22898</td>\n",
       "      <td>65976</td>\n",
       "      <td>2003-12-14</td>\n",
       "      <td>5.0</td>\n",
       "      <td>101</td>\n",
       "      <td>173681</td>\n",
       "    </tr>\n",
       "    <tr>\n",
       "      <th>13</th>\n",
       "      <td>857489</td>\n",
       "      <td>311630</td>\n",
       "      <td>2009-09-20</td>\n",
       "      <td>5.0</td>\n",
       "      <td>120</td>\n",
       "      <td>178097</td>\n",
       "    </tr>\n",
       "    <tr>\n",
       "      <th>14</th>\n",
       "      <td>1056692</td>\n",
       "      <td>312579</td>\n",
       "      <td>2013-08-31</td>\n",
       "      <td>4.0</td>\n",
       "      <td>122</td>\n",
       "      <td>177486</td>\n",
       "    </tr>\n",
       "    <tr>\n",
       "      <th>15</th>\n",
       "      <td>89831</td>\n",
       "      <td>74778</td>\n",
       "      <td>2006-01-14</td>\n",
       "      <td>5.0</td>\n",
       "      <td>130</td>\n",
       "      <td>178228</td>\n",
       "    </tr>\n",
       "    <tr>\n",
       "      <th>16</th>\n",
       "      <td>107583</td>\n",
       "      <td>141156</td>\n",
       "      <td>2008-12-20</td>\n",
       "      <td>5.0</td>\n",
       "      <td>141</td>\n",
       "      <td>178186</td>\n",
       "    </tr>\n",
       "    <tr>\n",
       "      <th>17</th>\n",
       "      <td>461834</td>\n",
       "      <td>479953</td>\n",
       "      <td>2013-04-08</td>\n",
       "      <td>5.0</td>\n",
       "      <td>143</td>\n",
       "      <td>177720</td>\n",
       "    </tr>\n",
       "    <tr>\n",
       "      <th>18</th>\n",
       "      <td>148715</td>\n",
       "      <td>99695</td>\n",
       "      <td>2004-09-23</td>\n",
       "      <td>5.0</td>\n",
       "      <td>150</td>\n",
       "      <td>173783</td>\n",
       "    </tr>\n",
       "    <tr>\n",
       "      <th>19</th>\n",
       "      <td>1206102</td>\n",
       "      <td>207099</td>\n",
       "      <td>2014-01-05</td>\n",
       "      <td>5.0</td>\n",
       "      <td>152</td>\n",
       "      <td>178117</td>\n",
       "    </tr>\n",
       "    <tr>\n",
       "      <th>20</th>\n",
       "      <td>213139</td>\n",
       "      <td>366693</td>\n",
       "      <td>2010-04-19</td>\n",
       "      <td>4.0</td>\n",
       "      <td>159</td>\n",
       "      <td>178159</td>\n",
       "    </tr>\n",
       "    <tr>\n",
       "      <th>21</th>\n",
       "      <td>128541</td>\n",
       "      <td>50194</td>\n",
       "      <td>2008-11-14</td>\n",
       "      <td>5.0</td>\n",
       "      <td>163</td>\n",
       "      <td>177808</td>\n",
       "    </tr>\n",
       "    <tr>\n",
       "      <th>22</th>\n",
       "      <td>865936</td>\n",
       "      <td>221247</td>\n",
       "      <td>2009-11-09</td>\n",
       "      <td>5.0</td>\n",
       "      <td>165</td>\n",
       "      <td>178180</td>\n",
       "    </tr>\n",
       "    <tr>\n",
       "      <th>23</th>\n",
       "      <td>592157</td>\n",
       "      <td>80001</td>\n",
       "      <td>2008-06-04</td>\n",
       "      <td>5.0</td>\n",
       "      <td>166</td>\n",
       "      <td>175826</td>\n",
       "    </tr>\n",
       "    <tr>\n",
       "      <th>24</th>\n",
       "      <td>323186</td>\n",
       "      <td>482126</td>\n",
       "      <td>2012-08-14</td>\n",
       "      <td>5.0</td>\n",
       "      <td>172</td>\n",
       "      <td>178192</td>\n",
       "    </tr>\n",
       "    <tr>\n",
       "      <th>25</th>\n",
       "      <td>585496</td>\n",
       "      <td>173241</td>\n",
       "      <td>2008-10-12</td>\n",
       "      <td>4.0</td>\n",
       "      <td>173</td>\n",
       "      <td>146887</td>\n",
       "    </tr>\n",
       "    <tr>\n",
       "      <th>26</th>\n",
       "      <td>320449</td>\n",
       "      <td>282862</td>\n",
       "      <td>2008-02-16</td>\n",
       "      <td>4.0</td>\n",
       "      <td>174</td>\n",
       "      <td>143653</td>\n",
       "    </tr>\n",
       "    <tr>\n",
       "      <th>27</th>\n",
       "      <td>220348</td>\n",
       "      <td>394419</td>\n",
       "      <td>2009-11-25</td>\n",
       "      <td>5.0</td>\n",
       "      <td>179</td>\n",
       "      <td>178249</td>\n",
       "    </tr>\n",
       "    <tr>\n",
       "      <th>28</th>\n",
       "      <td>2324285</td>\n",
       "      <td>484976</td>\n",
       "      <td>2013-04-15</td>\n",
       "      <td>4.0</td>\n",
       "      <td>181</td>\n",
       "      <td>177773</td>\n",
       "    </tr>\n",
       "    <tr>\n",
       "      <th>29</th>\n",
       "      <td>459426</td>\n",
       "      <td>223667</td>\n",
       "      <td>2008-04-10</td>\n",
       "      <td>4.0</td>\n",
       "      <td>183</td>\n",
       "      <td>167455</td>\n",
       "    </tr>\n",
       "    <tr>\n",
       "      <th>...</th>\n",
       "      <td>...</td>\n",
       "      <td>...</td>\n",
       "      <td>...</td>\n",
       "      <td>...</td>\n",
       "      <td>...</td>\n",
       "      <td>...</td>\n",
       "    </tr>\n",
       "    <tr>\n",
       "      <th>12425</th>\n",
       "      <td>358714</td>\n",
       "      <td>355968</td>\n",
       "      <td>2009-10-19</td>\n",
       "      <td>5.0</td>\n",
       "      <td>24942</td>\n",
       "      <td>145512</td>\n",
       "    </tr>\n",
       "    <tr>\n",
       "      <th>12426</th>\n",
       "      <td>779986</td>\n",
       "      <td>371990</td>\n",
       "      <td>2009-05-19</td>\n",
       "      <td>5.0</td>\n",
       "      <td>24943</td>\n",
       "      <td>108042</td>\n",
       "    </tr>\n",
       "    <tr>\n",
       "      <th>12427</th>\n",
       "      <td>297321</td>\n",
       "      <td>130956</td>\n",
       "      <td>2006-05-01</td>\n",
       "      <td>5.0</td>\n",
       "      <td>24946</td>\n",
       "      <td>117529</td>\n",
       "    </tr>\n",
       "    <tr>\n",
       "      <th>12428</th>\n",
       "      <td>1277979</td>\n",
       "      <td>85390</td>\n",
       "      <td>2009-08-28</td>\n",
       "      <td>5.0</td>\n",
       "      <td>24951</td>\n",
       "      <td>174038</td>\n",
       "    </tr>\n",
       "    <tr>\n",
       "      <th>12429</th>\n",
       "      <td>268515</td>\n",
       "      <td>146774</td>\n",
       "      <td>2005-12-08</td>\n",
       "      <td>3.0</td>\n",
       "      <td>24968</td>\n",
       "      <td>148475</td>\n",
       "    </tr>\n",
       "    <tr>\n",
       "      <th>12430</th>\n",
       "      <td>302170</td>\n",
       "      <td>159156</td>\n",
       "      <td>2006-03-26</td>\n",
       "      <td>3.0</td>\n",
       "      <td>24972</td>\n",
       "      <td>111730</td>\n",
       "    </tr>\n",
       "    <tr>\n",
       "      <th>12431</th>\n",
       "      <td>2452031</td>\n",
       "      <td>407164</td>\n",
       "      <td>2013-04-18</td>\n",
       "      <td>5.0</td>\n",
       "      <td>24981</td>\n",
       "      <td>148973</td>\n",
       "    </tr>\n",
       "    <tr>\n",
       "      <th>12432</th>\n",
       "      <td>494258</td>\n",
       "      <td>205039</td>\n",
       "      <td>2007-05-27</td>\n",
       "      <td>4.0</td>\n",
       "      <td>24982</td>\n",
       "      <td>141583</td>\n",
       "    </tr>\n",
       "    <tr>\n",
       "      <th>12433</th>\n",
       "      <td>869163</td>\n",
       "      <td>251787</td>\n",
       "      <td>2008-06-22</td>\n",
       "      <td>5.0</td>\n",
       "      <td>24984</td>\n",
       "      <td>128229</td>\n",
       "    </tr>\n",
       "    <tr>\n",
       "      <th>12434</th>\n",
       "      <td>557416</td>\n",
       "      <td>249840</td>\n",
       "      <td>2007-10-25</td>\n",
       "      <td>5.0</td>\n",
       "      <td>25006</td>\n",
       "      <td>167315</td>\n",
       "    </tr>\n",
       "    <tr>\n",
       "      <th>12435</th>\n",
       "      <td>218411</td>\n",
       "      <td>384881</td>\n",
       "      <td>2009-08-23</td>\n",
       "      <td>2.0</td>\n",
       "      <td>25008</td>\n",
       "      <td>135179</td>\n",
       "    </tr>\n",
       "    <tr>\n",
       "      <th>12436</th>\n",
       "      <td>587445</td>\n",
       "      <td>251480</td>\n",
       "      <td>2008-11-30</td>\n",
       "      <td>3.0</td>\n",
       "      <td>25009</td>\n",
       "      <td>129282</td>\n",
       "    </tr>\n",
       "    <tr>\n",
       "      <th>12437</th>\n",
       "      <td>1519155</td>\n",
       "      <td>333907</td>\n",
       "      <td>2010-04-27</td>\n",
       "      <td>4.0</td>\n",
       "      <td>25012</td>\n",
       "      <td>144218</td>\n",
       "    </tr>\n",
       "    <tr>\n",
       "      <th>12438</th>\n",
       "      <td>1342637</td>\n",
       "      <td>249735</td>\n",
       "      <td>2009-08-12</td>\n",
       "      <td>5.0</td>\n",
       "      <td>25014</td>\n",
       "      <td>153073</td>\n",
       "    </tr>\n",
       "    <tr>\n",
       "      <th>12439</th>\n",
       "      <td>1562890</td>\n",
       "      <td>192558</td>\n",
       "      <td>2011-03-21</td>\n",
       "      <td>4.0</td>\n",
       "      <td>25020</td>\n",
       "      <td>118960</td>\n",
       "    </tr>\n",
       "    <tr>\n",
       "      <th>12440</th>\n",
       "      <td>1248947</td>\n",
       "      <td>14944</td>\n",
       "      <td>2009-05-20</td>\n",
       "      <td>5.0</td>\n",
       "      <td>25024</td>\n",
       "      <td>120008</td>\n",
       "    </tr>\n",
       "    <tr>\n",
       "      <th>12441</th>\n",
       "      <td>178696</td>\n",
       "      <td>94391</td>\n",
       "      <td>2005-02-21</td>\n",
       "      <td>5.0</td>\n",
       "      <td>25025</td>\n",
       "      <td>145197</td>\n",
       "    </tr>\n",
       "    <tr>\n",
       "      <th>12442</th>\n",
       "      <td>1727796</td>\n",
       "      <td>275273</td>\n",
       "      <td>2010-11-12</td>\n",
       "      <td>5.0</td>\n",
       "      <td>25026</td>\n",
       "      <td>169640</td>\n",
       "    </tr>\n",
       "    <tr>\n",
       "      <th>12443</th>\n",
       "      <td>29997</td>\n",
       "      <td>203749</td>\n",
       "      <td>2007-07-06</td>\n",
       "      <td>4.0</td>\n",
       "      <td>25030</td>\n",
       "      <td>173470</td>\n",
       "    </tr>\n",
       "    <tr>\n",
       "      <th>12444</th>\n",
       "      <td>471682</td>\n",
       "      <td>156257</td>\n",
       "      <td>2007-05-06</td>\n",
       "      <td>5.0</td>\n",
       "      <td>25032</td>\n",
       "      <td>159458</td>\n",
       "    </tr>\n",
       "    <tr>\n",
       "      <th>12445</th>\n",
       "      <td>541949</td>\n",
       "      <td>175116</td>\n",
       "      <td>2007-09-08</td>\n",
       "      <td>2.0</td>\n",
       "      <td>25033</td>\n",
       "      <td>125465</td>\n",
       "    </tr>\n",
       "    <tr>\n",
       "      <th>12446</th>\n",
       "      <td>1248602</td>\n",
       "      <td>299886</td>\n",
       "      <td>2013-12-14</td>\n",
       "      <td>4.0</td>\n",
       "      <td>25041</td>\n",
       "      <td>133351</td>\n",
       "    </tr>\n",
       "    <tr>\n",
       "      <th>12447</th>\n",
       "      <td>1724643</td>\n",
       "      <td>375807</td>\n",
       "      <td>2011-11-08</td>\n",
       "      <td>5.0</td>\n",
       "      <td>25047</td>\n",
       "      <td>154459</td>\n",
       "    </tr>\n",
       "    <tr>\n",
       "      <th>12448</th>\n",
       "      <td>937528</td>\n",
       "      <td>375371</td>\n",
       "      <td>2010-01-06</td>\n",
       "      <td>5.0</td>\n",
       "      <td>25048</td>\n",
       "      <td>157275</td>\n",
       "    </tr>\n",
       "    <tr>\n",
       "      <th>12449</th>\n",
       "      <td>472815</td>\n",
       "      <td>187829</td>\n",
       "      <td>2011-10-31</td>\n",
       "      <td>0.0</td>\n",
       "      <td>25051</td>\n",
       "      <td>147807</td>\n",
       "    </tr>\n",
       "    <tr>\n",
       "      <th>12450</th>\n",
       "      <td>101053</td>\n",
       "      <td>179011</td>\n",
       "      <td>2009-01-03</td>\n",
       "      <td>5.0</td>\n",
       "      <td>25054</td>\n",
       "      <td>130258</td>\n",
       "    </tr>\n",
       "    <tr>\n",
       "      <th>12451</th>\n",
       "      <td>252205</td>\n",
       "      <td>81398</td>\n",
       "      <td>2005-12-26</td>\n",
       "      <td>2.0</td>\n",
       "      <td>25055</td>\n",
       "      <td>152255</td>\n",
       "    </tr>\n",
       "    <tr>\n",
       "      <th>12452</th>\n",
       "      <td>624305</td>\n",
       "      <td>142984</td>\n",
       "      <td>2011-01-15</td>\n",
       "      <td>1.0</td>\n",
       "      <td>25057</td>\n",
       "      <td>139864</td>\n",
       "    </tr>\n",
       "    <tr>\n",
       "      <th>12453</th>\n",
       "      <td>173575</td>\n",
       "      <td>104842</td>\n",
       "      <td>2004-12-18</td>\n",
       "      <td>3.0</td>\n",
       "      <td>25059</td>\n",
       "      <td>140646</td>\n",
       "    </tr>\n",
       "    <tr>\n",
       "      <th>12454</th>\n",
       "      <td>1249650</td>\n",
       "      <td>287280</td>\n",
       "      <td>2009-04-28</td>\n",
       "      <td>4.0</td>\n",
       "      <td>25070</td>\n",
       "      <td>166028</td>\n",
       "    </tr>\n",
       "  </tbody>\n",
       "</table>\n",
       "<p>12455 rows × 6 columns</p>\n",
       "</div>"
      ],
      "text/plain": [
       "       user_id  recipe_id        date  rating      u       i\n",
       "0         8937      44551  2005-12-23     4.0      2  173538\n",
       "1        56680     126118  2006-10-07     4.0     16  177847\n",
       "2       349752     219596  2008-04-12     0.0     26   89896\n",
       "3       628951      82783  2007-11-13     2.0     45  172637\n",
       "4        92816     435013  2013-07-31     3.0     52  177935\n",
       "5       280271     228179  2007-07-29     5.0     55  178179\n",
       "6       345569     186470  2008-10-05     0.0     57  177482\n",
       "7       724516     298748  2011-05-07     5.0     71  177749\n",
       "8       176615     118119  2006-10-27     0.0     82  178250\n",
       "9        56112     166712  2007-08-02     5.0     89  177821\n",
       "10      537179      78641  2009-11-20     4.0     91  177805\n",
       "11      222478     437144  2010-11-09     5.0     97  178178\n",
       "12       22898      65976  2003-12-14     5.0    101  173681\n",
       "13      857489     311630  2009-09-20     5.0    120  178097\n",
       "14     1056692     312579  2013-08-31     4.0    122  177486\n",
       "15       89831      74778  2006-01-14     5.0    130  178228\n",
       "16      107583     141156  2008-12-20     5.0    141  178186\n",
       "17      461834     479953  2013-04-08     5.0    143  177720\n",
       "18      148715      99695  2004-09-23     5.0    150  173783\n",
       "19     1206102     207099  2014-01-05     5.0    152  178117\n",
       "20      213139     366693  2010-04-19     4.0    159  178159\n",
       "21      128541      50194  2008-11-14     5.0    163  177808\n",
       "22      865936     221247  2009-11-09     5.0    165  178180\n",
       "23      592157      80001  2008-06-04     5.0    166  175826\n",
       "24      323186     482126  2012-08-14     5.0    172  178192\n",
       "25      585496     173241  2008-10-12     4.0    173  146887\n",
       "26      320449     282862  2008-02-16     4.0    174  143653\n",
       "27      220348     394419  2009-11-25     5.0    179  178249\n",
       "28     2324285     484976  2013-04-15     4.0    181  177773\n",
       "29      459426     223667  2008-04-10     4.0    183  167455\n",
       "...        ...        ...         ...     ...    ...     ...\n",
       "12425   358714     355968  2009-10-19     5.0  24942  145512\n",
       "12426   779986     371990  2009-05-19     5.0  24943  108042\n",
       "12427   297321     130956  2006-05-01     5.0  24946  117529\n",
       "12428  1277979      85390  2009-08-28     5.0  24951  174038\n",
       "12429   268515     146774  2005-12-08     3.0  24968  148475\n",
       "12430   302170     159156  2006-03-26     3.0  24972  111730\n",
       "12431  2452031     407164  2013-04-18     5.0  24981  148973\n",
       "12432   494258     205039  2007-05-27     4.0  24982  141583\n",
       "12433   869163     251787  2008-06-22     5.0  24984  128229\n",
       "12434   557416     249840  2007-10-25     5.0  25006  167315\n",
       "12435   218411     384881  2009-08-23     2.0  25008  135179\n",
       "12436   587445     251480  2008-11-30     3.0  25009  129282\n",
       "12437  1519155     333907  2010-04-27     4.0  25012  144218\n",
       "12438  1342637     249735  2009-08-12     5.0  25014  153073\n",
       "12439  1562890     192558  2011-03-21     4.0  25020  118960\n",
       "12440  1248947      14944  2009-05-20     5.0  25024  120008\n",
       "12441   178696      94391  2005-02-21     5.0  25025  145197\n",
       "12442  1727796     275273  2010-11-12     5.0  25026  169640\n",
       "12443    29997     203749  2007-07-06     4.0  25030  173470\n",
       "12444   471682     156257  2007-05-06     5.0  25032  159458\n",
       "12445   541949     175116  2007-09-08     2.0  25033  125465\n",
       "12446  1248602     299886  2013-12-14     4.0  25041  133351\n",
       "12447  1724643     375807  2011-11-08     5.0  25047  154459\n",
       "12448   937528     375371  2010-01-06     5.0  25048  157275\n",
       "12449   472815     187829  2011-10-31     0.0  25051  147807\n",
       "12450   101053     179011  2009-01-03     5.0  25054  130258\n",
       "12451   252205      81398  2005-12-26     2.0  25055  152255\n",
       "12452   624305     142984  2011-01-15     1.0  25057  139864\n",
       "12453   173575     104842  2004-12-18     3.0  25059  140646\n",
       "12454  1249650     287280  2009-04-28     4.0  25070  166028\n",
       "\n",
       "[12455 rows x 6 columns]"
      ]
     },
     "execution_count": 55,
     "metadata": {},
     "output_type": "execute_result"
    }
   ],
   "source": [
    "df_matrix_test"
   ]
  },
  {
   "cell_type": "code",
   "execution_count": 56,
   "metadata": {},
   "outputs": [],
   "source": [
    "df_matrix_train_ranked = df_matrix_train.sort_values(by='rating', ascending=False)"
   ]
  },
  {
   "cell_type": "code",
   "execution_count": 57,
   "metadata": {},
   "outputs": [],
   "source": [
    "# Later used for mapping \n",
    "ranked_recipe_id = df_matrix_train_ranked['recipe_id']"
   ]
  },
  {
   "cell_type": "code",
   "execution_count": 58,
   "metadata": {},
   "outputs": [],
   "source": [
    "df_matrix_train = df_matrix_train.sort_values(by='u').drop(columns='user_id').drop(columns='recipe_id').drop(columns='date')\n",
    "df_matrix_test = df_matrix_test.sort_values(by='u').drop(columns='user_id').drop(columns='recipe_id').drop(columns='date')"
   ]
  },
  {
   "cell_type": "code",
   "execution_count": 59,
   "metadata": {},
   "outputs": [],
   "source": [
    "df_matrix_train_array = df_matrix_train.to_numpy()\n",
    "df_matrix_test_array = df_matrix_test.to_numpy()"
   ]
  },
  {
   "cell_type": "code",
   "execution_count": 60,
   "metadata": {},
   "outputs": [
    {
     "data": {
      "text/plain": [
       "12455"
      ]
     },
     "execution_count": 60,
     "metadata": {},
     "output_type": "execute_result"
    }
   ],
   "source": [
    "len(df_matrix_test_array)"
   ]
  },
  {
   "cell_type": "code",
   "execution_count": 61,
   "metadata": {},
   "outputs": [],
   "source": [
    "from sklearn.cluster import KMeans"
   ]
  },
  {
   "cell_type": "code",
   "execution_count": 62,
   "metadata": {},
   "outputs": [],
   "source": [
    "kmeans = KMeans(n_clusters=9, random_state=0).fit(df_matrix_train_array)"
   ]
  },
  {
   "cell_type": "code",
   "execution_count": 63,
   "metadata": {},
   "outputs": [
    {
     "data": {
      "text/plain": [
       "array([[4.00000e+00, 2.00000e+00, 1.73538e+05]])"
      ]
     },
     "execution_count": 63,
     "metadata": {},
     "output_type": "execute_result"
    }
   ],
   "source": [
    "x= df_matrix_test_array[0].reshape(1, -1)\n",
    "x"
   ]
  },
  {
   "cell_type": "code",
   "execution_count": 82,
   "metadata": {},
   "outputs": [
    {
     "data": {
      "text/plain": [
       "12455"
      ]
     },
     "execution_count": 82,
     "metadata": {},
     "output_type": "execute_result"
    }
   ],
   "source": [
    "# Trying to parse a dataset in kmeans.predict instead of one value to predict clusters for multiple people\n",
    "y = []\n",
    "for i in range(12455):\n",
    "    y.append(df_matrix_test_array[i].reshape(1,-1))\n",
    "    \n",
    "len(y)"
   ]
  },
  {
   "cell_type": "code",
   "execution_count": 83,
   "metadata": {},
   "outputs": [],
   "source": [
    "# Converting list to array\n",
    "df_matrix_test_array_reshaped = np.asarray(y)"
   ]
  },
  {
   "cell_type": "code",
   "execution_count": 84,
   "metadata": {},
   "outputs": [
    {
     "data": {
      "text/plain": [
       "array([7])"
      ]
     },
     "execution_count": 84,
     "metadata": {},
     "output_type": "execute_result"
    }
   ],
   "source": [
    "kmeans.predict(x)\n"
   ]
  },
  {
   "cell_type": "code",
   "execution_count": 86,
   "metadata": {},
   "outputs": [],
   "source": [
    "# kmeans.predict(df_matrix_test_array_reshaped)"
   ]
  },
  {
   "cell_type": "code",
   "execution_count": 32,
   "metadata": {},
   "outputs": [
    {
     "data": {
      "text/plain": [
       "array([[4.57111162e+00, 3.55013768e+03, 1.03789022e+04],\n",
       "       [4.57608696e+00, 4.41099503e+03, 1.10421992e+05],\n",
       "       [4.58130727e+00, 4.39939683e+03, 1.48901104e+05],\n",
       "       [4.56968395e+00, 4.41983763e+03, 5.19482609e+04],\n",
       "       [4.56058574e+00, 4.34895064e+03, 1.29816315e+05],\n",
       "       [4.57161097e+00, 4.41704579e+03, 9.15927356e+04],\n",
       "       [4.57458815e+00, 4.32805357e+03, 3.17996565e+04],\n",
       "       [4.58965458e+00, 4.15704577e+03, 1.68315499e+05],\n",
       "       [4.57368326e+00, 4.29943328e+03, 7.19832053e+04]])"
      ]
     },
     "execution_count": 32,
     "metadata": {},
     "output_type": "execute_result"
    }
   ],
   "source": [
    "kmeans.cluster_centers_"
   ]
  },
  {
   "cell_type": "code",
   "execution_count": 33,
   "metadata": {},
   "outputs": [
    {
     "data": {
      "text/plain": [
       "array([8, 8, 0, ..., 7, 7, 2])"
      ]
     },
     "execution_count": 33,
     "metadata": {},
     "output_type": "execute_result"
    }
   ],
   "source": [
    "kmeans.labels_"
   ]
  },
  {
   "cell_type": "code",
   "execution_count": 61,
   "metadata": {},
   "outputs": [
    {
     "data": {
      "text/plain": [
       "903101394.9472222"
      ]
     },
     "execution_count": 61,
     "metadata": {},
     "output_type": "execute_result"
    }
   ],
   "source": [
    "kmeans.inertia_ "
   ]
  },
  {
   "cell_type": "code",
   "execution_count": 34,
   "metadata": {},
   "outputs": [
    {
     "data": {
      "text/plain": [
       "17"
      ]
     },
     "execution_count": 34,
     "metadata": {},
     "output_type": "execute_result"
    }
   ],
   "source": [
    "kmeans.n_iter_"
   ]
  },
  {
   "cell_type": "code",
   "execution_count": 35,
   "metadata": {},
   "outputs": [],
   "source": [
    "# Finding out recipes ids in the same cluster"
   ]
  },
  {
   "cell_type": "code",
   "execution_count": 36,
   "metadata": {},
   "outputs": [],
   "source": [
    "# Suggesting the ids "
   ]
  },
  {
   "cell_type": "code",
   "execution_count": 38,
   "metadata": {},
   "outputs": [],
   "source": [
    "# The user will interact with a UI - picture/name - which has recipe id embedded in it - \n",
    "#  rating, user id, recipe id is passed to predict - the cluster\n",
    "# Random dish id from that cluster are suggested ( just one? )\n",
    "# this dish id is mapped to a picture and a name and displayed."
   ]
  },
  {
   "cell_type": "code",
   "execution_count": 88,
   "metadata": {},
   "outputs": [],
   "source": [
    "# Mapping them to the dish names in the recipes csv  \n",
    "df_recipes_raw = pd.read_csv(\"C:/2019/The Port/FoodFlix/food-com-recipes-and-user-interactions/RAW_recipes.csv\")"
   ]
  },
  {
   "cell_type": "code",
   "execution_count": 89,
   "metadata": {},
   "outputs": [
    {
     "data": {
      "text/plain": [
       "31490"
      ]
     },
     "execution_count": 89,
     "metadata": {},
     "output_type": "execute_result"
    }
   ],
   "source": [
    "df_recipes_raw['id'][1]"
   ]
  },
  {
   "cell_type": "code",
   "execution_count": 99,
   "metadata": {},
   "outputs": [
    {
     "data": {
      "text/plain": [
       "53892"
      ]
     },
     "execution_count": 99,
     "metadata": {},
     "output_type": "execute_result"
    }
   ],
   "source": [
    "# Matching the ranked dishes with recipes in ranked_recipe_id\n",
    "arr_ranked_recipe_id =  ranked_recipe_id.head(10).to_numpy()\n",
    "arr_ranked_recipe_id[1]"
   ]
  },
  {
   "cell_type": "code",
   "execution_count": 104,
   "metadata": {},
   "outputs": [
    {
     "data": {
      "text/plain": [
       "0         False\n",
       "1         False\n",
       "2         False\n",
       "3         False\n",
       "4         False\n",
       "5         False\n",
       "6         False\n",
       "7         False\n",
       "8         False\n",
       "9         False\n",
       "10        False\n",
       "11        False\n",
       "12        False\n",
       "13        False\n",
       "14        False\n",
       "15        False\n",
       "16        False\n",
       "17        False\n",
       "18        False\n",
       "19        False\n",
       "20        False\n",
       "21        False\n",
       "22        False\n",
       "23        False\n",
       "24        False\n",
       "25        False\n",
       "26        False\n",
       "27        False\n",
       "28        False\n",
       "29        False\n",
       "          ...  \n",
       "231607    False\n",
       "231608    False\n",
       "231609    False\n",
       "231610    False\n",
       "231611    False\n",
       "231612    False\n",
       "231613    False\n",
       "231614    False\n",
       "231615    False\n",
       "231616    False\n",
       "231617    False\n",
       "231618    False\n",
       "231619    False\n",
       "231620    False\n",
       "231621    False\n",
       "231622    False\n",
       "231623    False\n",
       "231624    False\n",
       "231625    False\n",
       "231626    False\n",
       "231627    False\n",
       "231628    False\n",
       "231629    False\n",
       "231630    False\n",
       "231631    False\n",
       "231632    False\n",
       "231633    False\n",
       "231634    False\n",
       "231635    False\n",
       "231636    False\n",
       "Name: id, Length: 231637, dtype: bool"
      ]
     },
     "execution_count": 104,
     "metadata": {},
     "output_type": "execute_result"
    }
   ],
   "source": [
    "df_recipes_raw['id'].isin([4684,  53892, 278225, 359199, 135350, 241252,  94308,  13511,\n",
    "       227316, 116926])"
   ]
  },
  {
   "cell_type": "code",
   "execution_count": null,
   "metadata": {},
   "outputs": [],
   "source": []
  },
  {
   "cell_type": "code",
   "execution_count": null,
   "metadata": {},
   "outputs": [],
   "source": [
    "\n",
    "                \n",
    "           "
   ]
  },
  {
   "cell_type": "code",
   "execution_count": null,
   "metadata": {},
   "outputs": [],
   "source": []
  },
  {
   "cell_type": "code",
   "execution_count": null,
   "metadata": {},
   "outputs": [],
   "source": []
  },
  {
   "cell_type": "code",
   "execution_count": null,
   "metadata": {},
   "outputs": [],
   "source": []
  },
  {
   "cell_type": "code",
   "execution_count": null,
   "metadata": {},
   "outputs": [],
   "source": []
  }
 ],
 "metadata": {
  "kernelspec": {
   "display_name": "Python 3",
   "language": "python",
   "name": "python3"
  },
  "language_info": {
   "codemirror_mode": {
    "name": "ipython",
    "version": 3
   },
   "file_extension": ".py",
   "mimetype": "text/x-python",
   "name": "python",
   "nbconvert_exporter": "python",
   "pygments_lexer": "ipython3",
   "version": "3.6.4"
  }
 },
 "nbformat": 4,
 "nbformat_minor": 2
}
