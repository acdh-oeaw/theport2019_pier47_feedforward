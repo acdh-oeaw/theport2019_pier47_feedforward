{
 "cells": [
  {
   "cell_type": "markdown",
   "metadata": {},
   "source": [
    "### Loading packages"
   ]
  },
  {
   "cell_type": "code",
   "execution_count": 17,
   "metadata": {},
   "outputs": [],
   "source": [
    "import os\n",
    "import sys\n",
    "import io\n",
    "import numpy as np\n",
    "import matplotlib.pyplot as plt\n",
    "import pandas as pd\n",
    "\n",
    "import sqlite3\n",
    "from sqlite3 import Error"
   ]
  },
  {
   "cell_type": "markdown",
   "metadata": {},
   "source": [
    "### Loading [Data from Kaggle competition](https://www.kaggle.com/shuyangli94/food-com-recipes-and-user-interactions)"
   ]
  },
  {
   "cell_type": "code",
   "execution_count": 18,
   "metadata": {},
   "outputs": [
    {
     "name": "stdout",
     "output_type": "stream",
     "text": [
      "./data/RAW_recipes.csv\n",
      "./data/interactions_test.csv\n",
      "./data/interactions_validation.csv\n",
      "./data/PP_recipes.csv\n",
      "./data/.~lock.PP_recipes.csv#\n",
      "./data/PP_users.csv\n",
      "./data/interactions_train.csv\n",
      "./data/RAW_interactions.csv\n"
     ]
    }
   ],
   "source": [
    "path = './data'\n",
    "\n",
    "files = []\n",
    "# r=root, d=directories, f = files\n",
    "for r, d, f in os.walk(path):\n",
    "    for file in f:\n",
    "            files.append(os.path.join(r, file))\n",
    "\n",
    "for f in files:\n",
    "    print(f)"
   ]
  },
  {
   "cell_type": "code",
   "execution_count": 19,
   "metadata": {},
   "outputs": [],
   "source": [
    "df_recipes_raw = pd.read_csv('./data/RAW_recipes.csv')\n",
    "df_recipes_cod = pd.read_csv('./data/PP_recipes.csv')"
   ]
  },
  {
   "cell_type": "markdown",
   "metadata": {},
   "source": [
    "### Examining Data"
   ]
  },
  {
   "cell_type": "code",
   "execution_count": 20,
   "metadata": {},
   "outputs": [
    {
     "data": {
      "text/html": [
       "<div>\n",
       "<style scoped>\n",
       "    .dataframe tbody tr th:only-of-type {\n",
       "        vertical-align: middle;\n",
       "    }\n",
       "\n",
       "    .dataframe tbody tr th {\n",
       "        vertical-align: top;\n",
       "    }\n",
       "\n",
       "    .dataframe thead th {\n",
       "        text-align: right;\n",
       "    }\n",
       "</style>\n",
       "<table border=\"1\" class=\"dataframe\">\n",
       "  <thead>\n",
       "    <tr style=\"text-align: right;\">\n",
       "      <th></th>\n",
       "      <th>name</th>\n",
       "      <th>id</th>\n",
       "      <th>minutes</th>\n",
       "      <th>contributor_id</th>\n",
       "      <th>submitted</th>\n",
       "      <th>tags</th>\n",
       "      <th>nutrition</th>\n",
       "      <th>n_steps</th>\n",
       "      <th>steps</th>\n",
       "      <th>description</th>\n",
       "      <th>ingredients</th>\n",
       "      <th>n_ingredients</th>\n",
       "    </tr>\n",
       "  </thead>\n",
       "  <tbody>\n",
       "    <tr>\n",
       "      <td>0</td>\n",
       "      <td>arriba   baked winter squash mexican style</td>\n",
       "      <td>137739</td>\n",
       "      <td>55</td>\n",
       "      <td>47892</td>\n",
       "      <td>2005-09-16</td>\n",
       "      <td>['60-minutes-or-less', 'time-to-make', 'course...</td>\n",
       "      <td>[51.5, 0.0, 13.0, 0.0, 2.0, 0.0, 4.0]</td>\n",
       "      <td>11</td>\n",
       "      <td>['make a choice and proceed with recipe', 'dep...</td>\n",
       "      <td>autumn is my favorite time of year to cook! th...</td>\n",
       "      <td>['winter squash', 'mexican seasoning', 'mixed ...</td>\n",
       "      <td>7</td>\n",
       "    </tr>\n",
       "    <tr>\n",
       "      <td>1</td>\n",
       "      <td>a bit different  breakfast pizza</td>\n",
       "      <td>31490</td>\n",
       "      <td>30</td>\n",
       "      <td>26278</td>\n",
       "      <td>2002-06-17</td>\n",
       "      <td>['30-minutes-or-less', 'time-to-make', 'course...</td>\n",
       "      <td>[173.4, 18.0, 0.0, 17.0, 22.0, 35.0, 1.0]</td>\n",
       "      <td>9</td>\n",
       "      <td>['preheat oven to 425 degrees f', 'press dough...</td>\n",
       "      <td>this recipe calls for the crust to be prebaked...</td>\n",
       "      <td>['prepared pizza crust', 'sausage patty', 'egg...</td>\n",
       "      <td>6</td>\n",
       "    </tr>\n",
       "    <tr>\n",
       "      <td>2</td>\n",
       "      <td>all in the kitchen  chili</td>\n",
       "      <td>112140</td>\n",
       "      <td>130</td>\n",
       "      <td>196586</td>\n",
       "      <td>2005-02-25</td>\n",
       "      <td>['time-to-make', 'course', 'preparation', 'mai...</td>\n",
       "      <td>[269.8, 22.0, 32.0, 48.0, 39.0, 27.0, 5.0]</td>\n",
       "      <td>6</td>\n",
       "      <td>['brown ground beef in large pot', 'add choppe...</td>\n",
       "      <td>this modified version of 'mom's' chili was a h...</td>\n",
       "      <td>['ground beef', 'yellow onions', 'diced tomato...</td>\n",
       "      <td>13</td>\n",
       "    </tr>\n",
       "    <tr>\n",
       "      <td>3</td>\n",
       "      <td>alouette  potatoes</td>\n",
       "      <td>59389</td>\n",
       "      <td>45</td>\n",
       "      <td>68585</td>\n",
       "      <td>2003-04-14</td>\n",
       "      <td>['60-minutes-or-less', 'time-to-make', 'course...</td>\n",
       "      <td>[368.1, 17.0, 10.0, 2.0, 14.0, 8.0, 20.0]</td>\n",
       "      <td>11</td>\n",
       "      <td>['place potatoes in a large pot of lightly sal...</td>\n",
       "      <td>this is a super easy, great tasting, make ahea...</td>\n",
       "      <td>['spreadable cheese with garlic and herbs', 'n...</td>\n",
       "      <td>11</td>\n",
       "    </tr>\n",
       "    <tr>\n",
       "      <td>4</td>\n",
       "      <td>amish  tomato ketchup  for canning</td>\n",
       "      <td>44061</td>\n",
       "      <td>190</td>\n",
       "      <td>41706</td>\n",
       "      <td>2002-10-25</td>\n",
       "      <td>['weeknight', 'time-to-make', 'course', 'main-...</td>\n",
       "      <td>[352.9, 1.0, 337.0, 23.0, 3.0, 0.0, 28.0]</td>\n",
       "      <td>5</td>\n",
       "      <td>['mix all ingredients&amp; boil for 2 1 / 2 hours ...</td>\n",
       "      <td>my dh's amish mother raised him on this recipe...</td>\n",
       "      <td>['tomato juice', 'apple cider vinegar', 'sugar...</td>\n",
       "      <td>8</td>\n",
       "    </tr>\n",
       "  </tbody>\n",
       "</table>\n",
       "</div>"
      ],
      "text/plain": [
       "                                         name      id  minutes  \\\n",
       "0  arriba   baked winter squash mexican style  137739       55   \n",
       "1            a bit different  breakfast pizza   31490       30   \n",
       "2                   all in the kitchen  chili  112140      130   \n",
       "3                          alouette  potatoes   59389       45   \n",
       "4          amish  tomato ketchup  for canning   44061      190   \n",
       "\n",
       "   contributor_id   submitted  \\\n",
       "0           47892  2005-09-16   \n",
       "1           26278  2002-06-17   \n",
       "2          196586  2005-02-25   \n",
       "3           68585  2003-04-14   \n",
       "4           41706  2002-10-25   \n",
       "\n",
       "                                                tags  \\\n",
       "0  ['60-minutes-or-less', 'time-to-make', 'course...   \n",
       "1  ['30-minutes-or-less', 'time-to-make', 'course...   \n",
       "2  ['time-to-make', 'course', 'preparation', 'mai...   \n",
       "3  ['60-minutes-or-less', 'time-to-make', 'course...   \n",
       "4  ['weeknight', 'time-to-make', 'course', 'main-...   \n",
       "\n",
       "                                    nutrition  n_steps  \\\n",
       "0       [51.5, 0.0, 13.0, 0.0, 2.0, 0.0, 4.0]       11   \n",
       "1   [173.4, 18.0, 0.0, 17.0, 22.0, 35.0, 1.0]        9   \n",
       "2  [269.8, 22.0, 32.0, 48.0, 39.0, 27.0, 5.0]        6   \n",
       "3   [368.1, 17.0, 10.0, 2.0, 14.0, 8.0, 20.0]       11   \n",
       "4   [352.9, 1.0, 337.0, 23.0, 3.0, 0.0, 28.0]        5   \n",
       "\n",
       "                                               steps  \\\n",
       "0  ['make a choice and proceed with recipe', 'dep...   \n",
       "1  ['preheat oven to 425 degrees f', 'press dough...   \n",
       "2  ['brown ground beef in large pot', 'add choppe...   \n",
       "3  ['place potatoes in a large pot of lightly sal...   \n",
       "4  ['mix all ingredients& boil for 2 1 / 2 hours ...   \n",
       "\n",
       "                                         description  \\\n",
       "0  autumn is my favorite time of year to cook! th...   \n",
       "1  this recipe calls for the crust to be prebaked...   \n",
       "2  this modified version of 'mom's' chili was a h...   \n",
       "3  this is a super easy, great tasting, make ahea...   \n",
       "4  my dh's amish mother raised him on this recipe...   \n",
       "\n",
       "                                         ingredients  n_ingredients  \n",
       "0  ['winter squash', 'mexican seasoning', 'mixed ...              7  \n",
       "1  ['prepared pizza crust', 'sausage patty', 'egg...              6  \n",
       "2  ['ground beef', 'yellow onions', 'diced tomato...             13  \n",
       "3  ['spreadable cheese with garlic and herbs', 'n...             11  \n",
       "4  ['tomato juice', 'apple cider vinegar', 'sugar...              8  "
      ]
     },
     "execution_count": 20,
     "metadata": {},
     "output_type": "execute_result"
    }
   ],
   "source": [
    "df_recipes_raw.head()"
   ]
  },
  {
   "cell_type": "code",
   "execution_count": 21,
   "metadata": {},
   "outputs": [
    {
     "data": {
      "text/html": [
       "<div>\n",
       "<style scoped>\n",
       "    .dataframe tbody tr th:only-of-type {\n",
       "        vertical-align: middle;\n",
       "    }\n",
       "\n",
       "    .dataframe tbody tr th {\n",
       "        vertical-align: top;\n",
       "    }\n",
       "\n",
       "    .dataframe thead th {\n",
       "        text-align: right;\n",
       "    }\n",
       "</style>\n",
       "<table border=\"1\" class=\"dataframe\">\n",
       "  <thead>\n",
       "    <tr style=\"text-align: right;\">\n",
       "      <th></th>\n",
       "      <th>id</th>\n",
       "      <th>i</th>\n",
       "      <th>name_tokens</th>\n",
       "      <th>ingredient_tokens</th>\n",
       "      <th>steps_tokens</th>\n",
       "      <th>techniques</th>\n",
       "      <th>calorie_level</th>\n",
       "      <th>ingredient_ids</th>\n",
       "    </tr>\n",
       "  </thead>\n",
       "  <tbody>\n",
       "    <tr>\n",
       "      <td>0</td>\n",
       "      <td>424415</td>\n",
       "      <td>23</td>\n",
       "      <td>[40480, 37229, 2911, 1019, 249, 6878, 6878, 28...</td>\n",
       "      <td>[[2911, 1019, 249, 6878], [1353], [6953], [153...</td>\n",
       "      <td>[40480, 40482, 21662, 481, 6878, 500, 246, 161...</td>\n",
       "      <td>[0, 0, 0, 0, 0, 0, 0, 0, 0, 1, 0, 0, 0, 0, 0, ...</td>\n",
       "      <td>0</td>\n",
       "      <td>[389, 7655, 6270, 1527, 3406]</td>\n",
       "    </tr>\n",
       "    <tr>\n",
       "      <td>1</td>\n",
       "      <td>146223</td>\n",
       "      <td>96900</td>\n",
       "      <td>[40480, 18376, 7056, 246, 1531, 2032, 40481]</td>\n",
       "      <td>[[17918], [25916], [2507, 6444], [8467, 1179],...</td>\n",
       "      <td>[40480, 40482, 729, 2525, 10906, 485, 43, 8393...</td>\n",
       "      <td>[1, 0, 0, 0, 0, 0, 0, 0, 0, 1, 0, 0, 0, 0, 0, ...</td>\n",
       "      <td>0</td>\n",
       "      <td>[2683, 4969, 800, 5298, 840, 2499, 6632, 7022,...</td>\n",
       "    </tr>\n",
       "    <tr>\n",
       "      <td>2</td>\n",
       "      <td>312329</td>\n",
       "      <td>120056</td>\n",
       "      <td>[40480, 21044, 16954, 8294, 556, 10837, 40481]</td>\n",
       "      <td>[[5867, 24176], [1353], [6953], [1301, 11332],...</td>\n",
       "      <td>[40480, 40482, 8240, 481, 24176, 296, 1353, 66...</td>\n",
       "      <td>[0, 0, 0, 0, 1, 0, 0, 0, 0, 0, 0, 1, 0, 0, 0, ...</td>\n",
       "      <td>1</td>\n",
       "      <td>[1257, 7655, 6270, 590, 5024, 1119, 4883, 6696...</td>\n",
       "    </tr>\n",
       "    <tr>\n",
       "      <td>3</td>\n",
       "      <td>74301</td>\n",
       "      <td>168258</td>\n",
       "      <td>[40480, 10025, 31156, 40481]</td>\n",
       "      <td>[[1270, 1645, 28447], [21601], [27952, 29471, ...</td>\n",
       "      <td>[40480, 40482, 5539, 21601, 1073, 903, 2324, 4...</td>\n",
       "      <td>[1, 0, 0, 0, 0, 0, 0, 0, 0, 0, 0, 0, 0, 0, 0, ...</td>\n",
       "      <td>0</td>\n",
       "      <td>[7940, 3609, 7060, 6265, 1170, 6654, 5003, 3561]</td>\n",
       "    </tr>\n",
       "    <tr>\n",
       "      <td>4</td>\n",
       "      <td>76272</td>\n",
       "      <td>109030</td>\n",
       "      <td>[40480, 17841, 252, 782, 2373, 1641, 2373, 252...</td>\n",
       "      <td>[[1430, 11434], [1430, 17027], [1615, 23, 695,...</td>\n",
       "      <td>[40480, 40482, 14046, 1430, 11434, 488, 17027,...</td>\n",
       "      <td>[0, 0, 0, 0, 0, 0, 0, 0, 0, 1, 0, 0, 0, 0, 0, ...</td>\n",
       "      <td>0</td>\n",
       "      <td>[3484, 6324, 7594, 243]</td>\n",
       "    </tr>\n",
       "  </tbody>\n",
       "</table>\n",
       "</div>"
      ],
      "text/plain": [
       "       id       i                                        name_tokens  \\\n",
       "0  424415      23  [40480, 37229, 2911, 1019, 249, 6878, 6878, 28...   \n",
       "1  146223   96900       [40480, 18376, 7056, 246, 1531, 2032, 40481]   \n",
       "2  312329  120056     [40480, 21044, 16954, 8294, 556, 10837, 40481]   \n",
       "3   74301  168258                       [40480, 10025, 31156, 40481]   \n",
       "4   76272  109030  [40480, 17841, 252, 782, 2373, 1641, 2373, 252...   \n",
       "\n",
       "                                   ingredient_tokens  \\\n",
       "0  [[2911, 1019, 249, 6878], [1353], [6953], [153...   \n",
       "1  [[17918], [25916], [2507, 6444], [8467, 1179],...   \n",
       "2  [[5867, 24176], [1353], [6953], [1301, 11332],...   \n",
       "3  [[1270, 1645, 28447], [21601], [27952, 29471, ...   \n",
       "4  [[1430, 11434], [1430, 17027], [1615, 23, 695,...   \n",
       "\n",
       "                                        steps_tokens  \\\n",
       "0  [40480, 40482, 21662, 481, 6878, 500, 246, 161...   \n",
       "1  [40480, 40482, 729, 2525, 10906, 485, 43, 8393...   \n",
       "2  [40480, 40482, 8240, 481, 24176, 296, 1353, 66...   \n",
       "3  [40480, 40482, 5539, 21601, 1073, 903, 2324, 4...   \n",
       "4  [40480, 40482, 14046, 1430, 11434, 488, 17027,...   \n",
       "\n",
       "                                          techniques  calorie_level  \\\n",
       "0  [0, 0, 0, 0, 0, 0, 0, 0, 0, 1, 0, 0, 0, 0, 0, ...              0   \n",
       "1  [1, 0, 0, 0, 0, 0, 0, 0, 0, 1, 0, 0, 0, 0, 0, ...              0   \n",
       "2  [0, 0, 0, 0, 1, 0, 0, 0, 0, 0, 0, 1, 0, 0, 0, ...              1   \n",
       "3  [1, 0, 0, 0, 0, 0, 0, 0, 0, 0, 0, 0, 0, 0, 0, ...              0   \n",
       "4  [0, 0, 0, 0, 0, 0, 0, 0, 0, 1, 0, 0, 0, 0, 0, ...              0   \n",
       "\n",
       "                                      ingredient_ids  \n",
       "0                      [389, 7655, 6270, 1527, 3406]  \n",
       "1  [2683, 4969, 800, 5298, 840, 2499, 6632, 7022,...  \n",
       "2  [1257, 7655, 6270, 590, 5024, 1119, 4883, 6696...  \n",
       "3   [7940, 3609, 7060, 6265, 1170, 6654, 5003, 3561]  \n",
       "4                            [3484, 6324, 7594, 243]  "
      ]
     },
     "execution_count": 21,
     "metadata": {},
     "output_type": "execute_result"
    }
   ],
   "source": [
    "df_recipes_cod.head()"
   ]
  },
  {
   "cell_type": "code",
   "execution_count": 22,
   "metadata": {},
   "outputs": [],
   "source": [
    "df_recipes = pd.merge(df_recipes_cod, df_recipes_raw, on='id')\n",
    "df_recipes.set_index([\"id\"], drop=True, inplace=True)\n",
    "#df_recipes.set_index([\"i\"], drop=True, inplace=True)\n",
    "#df_recipes.drop(['i'], axis=1, inplace=True)"
   ]
  },
  {
   "cell_type": "code",
   "execution_count": 23,
   "metadata": {},
   "outputs": [
    {
     "name": "stdout",
     "output_type": "stream",
     "text": [
      "<class 'pandas.core.frame.DataFrame'>\n",
      "Int64Index: 178265 entries, 424415 to 263840\n",
      "Data columns (total 18 columns):\n",
      "i                    178265 non-null int64\n",
      "name_tokens          178265 non-null object\n",
      "ingredient_tokens    178265 non-null object\n",
      "steps_tokens         178265 non-null object\n",
      "techniques           178265 non-null object\n",
      "calorie_level        178265 non-null int64\n",
      "ingredient_ids       178265 non-null object\n",
      "name                 178265 non-null object\n",
      "minutes              178265 non-null int64\n",
      "contributor_id       178265 non-null int64\n",
      "submitted            178265 non-null object\n",
      "tags                 178265 non-null object\n",
      "nutrition            178265 non-null object\n",
      "n_steps              178265 non-null int64\n",
      "steps                178265 non-null object\n",
      "description          174311 non-null object\n",
      "ingredients          178265 non-null object\n",
      "n_ingredients        178265 non-null int64\n",
      "dtypes: int64(6), object(12)\n",
      "memory usage: 25.8+ MB\n"
     ]
    }
   ],
   "source": [
    "df_recipes.info()"
   ]
  },
  {
   "cell_type": "code",
   "execution_count": 24,
   "metadata": {},
   "outputs": [
    {
     "data": {
      "text/plain": [
       "\"['flour', 'oats', 'brown sugar', 'pecans', 'butter', 'eggs', 'solid pack pumpkin', 'sweetened condensed milk', 'cinnamon', 'ginger', 'nutmeg', 'salt']\""
      ]
     },
     "execution_count": 24,
     "metadata": {},
     "output_type": "execute_result"
    }
   ],
   "source": [
    "df_recipes.iloc[1][\"ingredients\"]"
   ]
  },
  {
   "cell_type": "code",
   "execution_count": 25,
   "metadata": {},
   "outputs": [
    {
     "data": {
      "text/plain": [
       "'[2683, 4969, 800, 5298, 840, 2499, 6632, 7022, 1511, 3248, 4964, 6270]'"
      ]
     },
     "execution_count": 25,
     "metadata": {},
     "output_type": "execute_result"
    }
   ],
   "source": [
    "df_recipes.iloc[1][\"ingredient_ids\"]"
   ]
  },
  {
   "cell_type": "markdown",
   "metadata": {},
   "source": [
    "#### Examining the \"Tag\" field"
   ]
  },
  {
   "cell_type": "code",
   "execution_count": 26,
   "metadata": {},
   "outputs": [
    {
     "data": {
      "text/plain": [
       "id\n",
       "424415    ['weeknight', 'time-to-make', 'course', 'main-...\n",
       "146223    ['60-minutes-or-less', 'time-to-make', 'course...\n",
       "312329    ['30-minutes-or-less', 'time-to-make', 'course...\n",
       "74301     ['15-minutes-or-less', 'time-to-make', 'course...\n",
       "76272     ['30-minutes-or-less', 'time-to-make', 'course...\n",
       "Name: tags, dtype: object"
      ]
     },
     "execution_count": 26,
     "metadata": {},
     "output_type": "execute_result"
    }
   ],
   "source": [
    "df_recipes.tags.head()"
   ]
  },
  {
   "cell_type": "code",
   "execution_count": 27,
   "metadata": {},
   "outputs": [],
   "source": [
    "tags = set([])\n",
    "for taglist in df_recipes.tags:\n",
    "    taglist = eval(taglist)\n",
    "    for tag in taglist:\n",
    "        tags.add(tag)"
   ]
  },
  {
   "cell_type": "code",
   "execution_count": 28,
   "metadata": {},
   "outputs": [
    {
     "data": {
      "text/plain": [
       "530"
      ]
     },
     "execution_count": 28,
     "metadata": {},
     "output_type": "execute_result"
    }
   ],
   "source": [
    "len(tags)"
   ]
  },
  {
   "cell_type": "markdown",
   "metadata": {},
   "source": [
    "#### Examining the \"Ingredients\" field"
   ]
  },
  {
   "cell_type": "code",
   "execution_count": 29,
   "metadata": {},
   "outputs": [],
   "source": [
    "ingredients = set([])\n",
    "for ingredient_list in df_recipes.ingredients:\n",
    "    ingredient_list = eval(ingredient_list)\n",
    "    for ingredient in ingredient_list:\n",
    "        ingredients.add(ingredient)"
   ]
  },
  {
   "cell_type": "code",
   "execution_count": 30,
   "metadata": {},
   "outputs": [
    {
     "data": {
      "text/plain": [
       "13627"
      ]
     },
     "execution_count": 30,
     "metadata": {},
     "output_type": "execute_result"
    }
   ],
   "source": [
    "len(ingredients)"
   ]
  },
  {
   "cell_type": "markdown",
   "metadata": {},
   "source": [
    "### Exporting an abridged dataframe for similarity calculations"
   ]
  },
  {
   "cell_type": "code",
   "execution_count": 32,
   "metadata": {},
   "outputs": [
    {
     "data": {
      "text/plain": [
       "Index(['old_id', 'name_tokens', 'ingredient_tokens', 'steps_tokens',\n",
       "       'techniques', 'calorie_level', 'ingredient_ids', 'name', 'minutes',\n",
       "       'contributor_id', 'submitted', 'tags', 'nutrition', 'n_steps', 'steps',\n",
       "       'description', 'ingredients', 'n_ingredients'],\n",
       "      dtype='object')"
      ]
     },
     "execution_count": 32,
     "metadata": {},
     "output_type": "execute_result"
    }
   ],
   "source": [
    "df_recipes.rename(columns={\"i\": \"old_id\",}, inplace=True)\n",
    "df_recipes.columns"
   ]
  },
  {
   "cell_type": "code",
   "execution_count": 33,
   "metadata": {},
   "outputs": [
    {
     "data": {
      "text/html": [
       "<div>\n",
       "<style scoped>\n",
       "    .dataframe tbody tr th:only-of-type {\n",
       "        vertical-align: middle;\n",
       "    }\n",
       "\n",
       "    .dataframe tbody tr th {\n",
       "        vertical-align: top;\n",
       "    }\n",
       "\n",
       "    .dataframe thead th {\n",
       "        text-align: right;\n",
       "    }\n",
       "</style>\n",
       "<table border=\"1\" class=\"dataframe\">\n",
       "  <thead>\n",
       "    <tr style=\"text-align: right;\">\n",
       "      <th></th>\n",
       "      <th>name_tokens</th>\n",
       "      <th>ingredient_tokens</th>\n",
       "      <th>steps_tokens</th>\n",
       "      <th>techniques</th>\n",
       "      <th>calorie_level</th>\n",
       "      <th>ingredient_ids</th>\n",
       "      <th>name</th>\n",
       "      <th>minutes</th>\n",
       "      <th>tags</th>\n",
       "      <th>nutrition</th>\n",
       "      <th>steps</th>\n",
       "      <th>ingredients</th>\n",
       "      <th>old_id</th>\n",
       "    </tr>\n",
       "    <tr>\n",
       "      <th>id</th>\n",
       "      <th></th>\n",
       "      <th></th>\n",
       "      <th></th>\n",
       "      <th></th>\n",
       "      <th></th>\n",
       "      <th></th>\n",
       "      <th></th>\n",
       "      <th></th>\n",
       "      <th></th>\n",
       "      <th></th>\n",
       "      <th></th>\n",
       "      <th></th>\n",
       "      <th></th>\n",
       "    </tr>\n",
       "  </thead>\n",
       "  <tbody>\n",
       "    <tr>\n",
       "      <td>424415</td>\n",
       "      <td>[40480, 37229, 2911, 1019, 249, 6878, 6878, 28...</td>\n",
       "      <td>[[2911, 1019, 249, 6878], [1353], [6953], [153...</td>\n",
       "      <td>[40480, 40482, 21662, 481, 6878, 500, 246, 161...</td>\n",
       "      <td>[0, 0, 0, 0, 0, 0, 0, 0, 0, 1, 0, 0, 0, 0, 0, ...</td>\n",
       "      <td>0</td>\n",
       "      <td>[389, 7655, 6270, 1527, 3406]</td>\n",
       "      <td>aromatic basmati rice  rice cooker</td>\n",
       "      <td>61</td>\n",
       "      <td>['weeknight', 'time-to-make', 'course', 'main-...</td>\n",
       "      <td>[228.2, 2.0, 2.0, 8.0, 9.0, 1.0, 15.0]</td>\n",
       "      <td>['rinse the rice in a fine strainer , then dra...</td>\n",
       "      <td>['basmati rice', 'water', 'salt', 'cinnamon st...</td>\n",
       "      <td>23</td>\n",
       "    </tr>\n",
       "    <tr>\n",
       "      <td>146223</td>\n",
       "      <td>[40480, 18376, 7056, 246, 1531, 2032, 40481]</td>\n",
       "      <td>[[17918], [25916], [2507, 6444], [8467, 1179],...</td>\n",
       "      <td>[40480, 40482, 729, 2525, 10906, 485, 43, 8393...</td>\n",
       "      <td>[1, 0, 0, 0, 0, 0, 0, 0, 0, 1, 0, 0, 0, 0, 0, ...</td>\n",
       "      <td>0</td>\n",
       "      <td>[2683, 4969, 800, 5298, 840, 2499, 6632, 7022,...</td>\n",
       "      <td>pumpkin pie a la easy</td>\n",
       "      <td>55</td>\n",
       "      <td>['60-minutes-or-less', 'time-to-make', 'course...</td>\n",
       "      <td>[249.4, 16.0, 92.0, 8.0, 11.0, 27.0, 11.0]</td>\n",
       "      <td>['preheat oven to 350', 'combine flour , oats ...</td>\n",
       "      <td>['flour', 'oats', 'brown sugar', 'pecans', 'bu...</td>\n",
       "      <td>96900</td>\n",
       "    </tr>\n",
       "    <tr>\n",
       "      <td>312329</td>\n",
       "      <td>[40480, 21044, 16954, 8294, 556, 10837, 40481]</td>\n",
       "      <td>[[5867, 24176], [1353], [6953], [1301, 11332],...</td>\n",
       "      <td>[40480, 40482, 8240, 481, 24176, 296, 1353, 66...</td>\n",
       "      <td>[0, 0, 0, 0, 1, 0, 0, 0, 0, 0, 0, 1, 0, 0, 0, ...</td>\n",
       "      <td>1</td>\n",
       "      <td>[1257, 7655, 6270, 590, 5024, 1119, 4883, 6696...</td>\n",
       "      <td>cheesy tomato soup with potatoes</td>\n",
       "      <td>25</td>\n",
       "      <td>['30-minutes-or-less', 'time-to-make', 'course...</td>\n",
       "      <td>[351.3, 34.0, 15.0, 50.0, 25.0, 70.0, 8.0]</td>\n",
       "      <td>['pour the broth &amp; water into a large pot', 'a...</td>\n",
       "      <td>['chicken broth', 'water', 'salt', 'black pepp...</td>\n",
       "      <td>120056</td>\n",
       "    </tr>\n",
       "    <tr>\n",
       "      <td>74301</td>\n",
       "      <td>[40480, 10025, 31156, 40481]</td>\n",
       "      <td>[[1270, 1645, 28447], [21601], [27952, 29471, ...</td>\n",
       "      <td>[40480, 40482, 5539, 21601, 1073, 903, 2324, 4...</td>\n",
       "      <td>[1, 0, 0, 0, 0, 0, 0, 0, 0, 0, 0, 0, 0, 0, 0, ...</td>\n",
       "      <td>0</td>\n",
       "      <td>[7940, 3609, 7060, 6265, 1170, 6654, 5003, 3561]</td>\n",
       "      <td>mini tacos</td>\n",
       "      <td>15</td>\n",
       "      <td>['15-minutes-or-less', 'time-to-make', 'course...</td>\n",
       "      <td>[79.7, 5.0, 2.0, 11.0, 11.0, 7.0, 2.0]</td>\n",
       "      <td>['cook hamburger until browned', 'drain the fa...</td>\n",
       "      <td>['wonton wrappers', 'hamburger', 'taco seasoni...</td>\n",
       "      <td>168258</td>\n",
       "    </tr>\n",
       "    <tr>\n",
       "      <td>76272</td>\n",
       "      <td>[40480, 17841, 252, 782, 2373, 1641, 2373, 252...</td>\n",
       "      <td>[[1430, 11434], [1430, 17027], [1615, 23, 695,...</td>\n",
       "      <td>[40480, 40482, 14046, 1430, 11434, 488, 17027,...</td>\n",
       "      <td>[0, 0, 0, 0, 0, 0, 0, 0, 0, 1, 0, 0, 0, 0, 0, ...</td>\n",
       "      <td>0</td>\n",
       "      <td>[3484, 6324, 7594, 243]</td>\n",
       "      <td>rosemary s hanky panky s</td>\n",
       "      <td>20</td>\n",
       "      <td>['30-minutes-or-less', 'time-to-make', 'course...</td>\n",
       "      <td>[240.7, 29.0, 9.0, 28.0, 27.0, 42.0, 0.0]</td>\n",
       "      <td>['fry ground beef and sausage until browned', ...</td>\n",
       "      <td>['ground beef', 'ground sausage', 'velveeta ch...</td>\n",
       "      <td>109030</td>\n",
       "    </tr>\n",
       "  </tbody>\n",
       "</table>\n",
       "</div>"
      ],
      "text/plain": [
       "                                              name_tokens  \\\n",
       "id                                                          \n",
       "424415  [40480, 37229, 2911, 1019, 249, 6878, 6878, 28...   \n",
       "146223       [40480, 18376, 7056, 246, 1531, 2032, 40481]   \n",
       "312329     [40480, 21044, 16954, 8294, 556, 10837, 40481]   \n",
       "74301                        [40480, 10025, 31156, 40481]   \n",
       "76272   [40480, 17841, 252, 782, 2373, 1641, 2373, 252...   \n",
       "\n",
       "                                        ingredient_tokens  \\\n",
       "id                                                          \n",
       "424415  [[2911, 1019, 249, 6878], [1353], [6953], [153...   \n",
       "146223  [[17918], [25916], [2507, 6444], [8467, 1179],...   \n",
       "312329  [[5867, 24176], [1353], [6953], [1301, 11332],...   \n",
       "74301   [[1270, 1645, 28447], [21601], [27952, 29471, ...   \n",
       "76272   [[1430, 11434], [1430, 17027], [1615, 23, 695,...   \n",
       "\n",
       "                                             steps_tokens  \\\n",
       "id                                                          \n",
       "424415  [40480, 40482, 21662, 481, 6878, 500, 246, 161...   \n",
       "146223  [40480, 40482, 729, 2525, 10906, 485, 43, 8393...   \n",
       "312329  [40480, 40482, 8240, 481, 24176, 296, 1353, 66...   \n",
       "74301   [40480, 40482, 5539, 21601, 1073, 903, 2324, 4...   \n",
       "76272   [40480, 40482, 14046, 1430, 11434, 488, 17027,...   \n",
       "\n",
       "                                               techniques  calorie_level  \\\n",
       "id                                                                         \n",
       "424415  [0, 0, 0, 0, 0, 0, 0, 0, 0, 1, 0, 0, 0, 0, 0, ...              0   \n",
       "146223  [1, 0, 0, 0, 0, 0, 0, 0, 0, 1, 0, 0, 0, 0, 0, ...              0   \n",
       "312329  [0, 0, 0, 0, 1, 0, 0, 0, 0, 0, 0, 1, 0, 0, 0, ...              1   \n",
       "74301   [1, 0, 0, 0, 0, 0, 0, 0, 0, 0, 0, 0, 0, 0, 0, ...              0   \n",
       "76272   [0, 0, 0, 0, 0, 0, 0, 0, 0, 1, 0, 0, 0, 0, 0, ...              0   \n",
       "\n",
       "                                           ingredient_ids  \\\n",
       "id                                                          \n",
       "424415                      [389, 7655, 6270, 1527, 3406]   \n",
       "146223  [2683, 4969, 800, 5298, 840, 2499, 6632, 7022,...   \n",
       "312329  [1257, 7655, 6270, 590, 5024, 1119, 4883, 6696...   \n",
       "74301    [7940, 3609, 7060, 6265, 1170, 6654, 5003, 3561]   \n",
       "76272                             [3484, 6324, 7594, 243]   \n",
       "\n",
       "                                      name  minutes  \\\n",
       "id                                                    \n",
       "424415  aromatic basmati rice  rice cooker       61   \n",
       "146223               pumpkin pie a la easy       55   \n",
       "312329    cheesy tomato soup with potatoes       25   \n",
       "74301                           mini tacos       15   \n",
       "76272             rosemary s hanky panky s       20   \n",
       "\n",
       "                                                     tags  \\\n",
       "id                                                          \n",
       "424415  ['weeknight', 'time-to-make', 'course', 'main-...   \n",
       "146223  ['60-minutes-or-less', 'time-to-make', 'course...   \n",
       "312329  ['30-minutes-or-less', 'time-to-make', 'course...   \n",
       "74301   ['15-minutes-or-less', 'time-to-make', 'course...   \n",
       "76272   ['30-minutes-or-less', 'time-to-make', 'course...   \n",
       "\n",
       "                                         nutrition  \\\n",
       "id                                                   \n",
       "424415      [228.2, 2.0, 2.0, 8.0, 9.0, 1.0, 15.0]   \n",
       "146223  [249.4, 16.0, 92.0, 8.0, 11.0, 27.0, 11.0]   \n",
       "312329  [351.3, 34.0, 15.0, 50.0, 25.0, 70.0, 8.0]   \n",
       "74301       [79.7, 5.0, 2.0, 11.0, 11.0, 7.0, 2.0]   \n",
       "76272    [240.7, 29.0, 9.0, 28.0, 27.0, 42.0, 0.0]   \n",
       "\n",
       "                                                    steps  \\\n",
       "id                                                          \n",
       "424415  ['rinse the rice in a fine strainer , then dra...   \n",
       "146223  ['preheat oven to 350', 'combine flour , oats ...   \n",
       "312329  ['pour the broth & water into a large pot', 'a...   \n",
       "74301   ['cook hamburger until browned', 'drain the fa...   \n",
       "76272   ['fry ground beef and sausage until browned', ...   \n",
       "\n",
       "                                              ingredients  old_id  \n",
       "id                                                                 \n",
       "424415  ['basmati rice', 'water', 'salt', 'cinnamon st...      23  \n",
       "146223  ['flour', 'oats', 'brown sugar', 'pecans', 'bu...   96900  \n",
       "312329  ['chicken broth', 'water', 'salt', 'black pepp...  120056  \n",
       "74301   ['wonton wrappers', 'hamburger', 'taco seasoni...  168258  \n",
       "76272   ['ground beef', 'ground sausage', 'velveeta ch...  109030  "
      ]
     },
     "execution_count": 33,
     "metadata": {},
     "output_type": "execute_result"
    }
   ],
   "source": [
    "useful = ['name_tokens', \n",
    "          'ingredient_tokens', \n",
    "          'steps_tokens', \n",
    "          'techniques',\n",
    "          'calorie_level',\n",
    "          'ingredient_ids',\n",
    "          'name', \n",
    "          'minutes',\n",
    "          'tags', \n",
    "          'nutrition', \n",
    "          'steps', \n",
    "          'ingredients', \n",
    "          'old_id', \n",
    "          ]\n",
    "df_recipes[useful].head()"
   ]
  },
  {
   "cell_type": "code",
   "execution_count": 34,
   "metadata": {},
   "outputs": [
    {
     "name": "stdout",
     "output_type": "stream",
     "text": [
      "<class 'pandas.core.frame.DataFrame'>\n",
      "Int64Index: 178265 entries, 424415 to 263840\n",
      "Data columns (total 13 columns):\n",
      "name_tokens          178265 non-null object\n",
      "ingredient_tokens    178265 non-null object\n",
      "steps_tokens         178265 non-null object\n",
      "techniques           178265 non-null object\n",
      "calorie_level        178265 non-null int64\n",
      "ingredient_ids       178265 non-null object\n",
      "name                 178265 non-null object\n",
      "minutes              178265 non-null int64\n",
      "tags                 178265 non-null object\n",
      "nutrition            178265 non-null object\n",
      "steps                178265 non-null object\n",
      "ingredients          178265 non-null object\n",
      "old_id               178265 non-null int64\n",
      "dtypes: int64(3), object(10)\n",
      "memory usage: 19.0+ MB\n"
     ]
    }
   ],
   "source": [
    "df_recipes[useful].info()"
   ]
  },
  {
   "cell_type": "code",
   "execution_count": 35,
   "metadata": {},
   "outputs": [],
   "source": [
    "df_recipes.name_tokens = df_recipes.name_tokens.apply(eval)\n",
    "df_recipes.ingredient_tokens = df_recipes.ingredient_tokens.apply(eval)\n",
    "df_recipes.steps_tokens = df_recipes.steps_tokens.apply(eval)\n",
    "df_recipes.techniques = df_recipes.techniques.apply(eval)\n",
    "df_recipes.ingredient_ids = df_recipes.ingredient_ids.apply(eval)\n",
    "df_recipes.tags = df_recipes.tags.apply(eval)\n",
    "df_recipes.ingredients = df_recipes.ingredients.apply(eval)\n",
    "df_recipes.nutrition = df_recipes.nutrition.apply(eval)\n",
    "df_recipes.steps = df_recipes.steps.apply(eval)"
   ]
  },
  {
   "cell_type": "code",
   "execution_count": 36,
   "metadata": {},
   "outputs": [],
   "source": [
    "df_recipes.to_pickle(\"basic_features.pkl.bz2\")"
   ]
  },
  {
   "cell_type": "markdown",
   "metadata": {},
   "source": [
    "### Building a database from the data (TBFinished)"
   ]
  },
  {
   "cell_type": "code",
   "execution_count": 62,
   "metadata": {},
   "outputs": [],
   "source": [
    "db_file = 'recipes.sqlite'\n",
    "\n",
    "def create_connection(db_file):\n",
    "    \"\"\" \n",
    "    create a database connection to the SQLite database\n",
    "    specified by db_file\n",
    "    :param db_file: database file\n",
    "    :return: Connection object or None\n",
    "    \"\"\"\n",
    "    conn = None\n",
    "    try:\n",
    "        conn = sqlite3.connect(db_file)\n",
    "        return conn\n",
    "    except Error as e:\n",
    "        print(e)\n",
    " \n",
    "    return conn\n",
    "\n",
    "\n",
    "def create_table(conn, create_table_sql):\n",
    "    \"\"\" \n",
    "    create a table from the create_table_sql statement\n",
    "    :param conn: Connection object\n",
    "    :param create_table_sql: a CREATE TABLE statement\n",
    "    :return:\n",
    "    \"\"\"\n",
    "    try:\n",
    "        c = conn.cursor()\n",
    "        c.execute(create_table_sql)\n",
    "    except Error as e:\n",
    "        print(e)"
   ]
  },
  {
   "cell_type": "code",
   "execution_count": 71,
   "metadata": {},
   "outputs": [],
   "source": [
    "sql_create_ingredients_table = r\"\"\" CREATE TABLE IF NOT EXISTS ingredients (\n",
    "                               id integer PRIMARY KEY,\n",
    "                               ingredient_name text NOT NULL\n",
    "                               ); \"\"\"\n",
    " \n",
    "sql_create_tags_table = r\"\"\"CREATE TABLE IF NOT EXISTS tags (\n",
    "                        id integer PRIMARY KEY,\n",
    "                        tag_name text NOT NULL\n",
    "                        );\"\"\"\n",
    " \n",
    "sql_create_recipes_table = r\"\"\"CREATE TABLE IF NOT EXISTS recipes (\n",
    "                           id integer PRIMARY KEY,\n",
    "                           recipe_name text NOT NULL\n",
    "                           );\"\"\"   \n",
    "\n",
    "sql_create_recipes_tags = r\"\"\"CREATE TABLE IF NOT EXISTS recipes_tags (\n",
    "                           id integer PRIMARY KEY,\n",
    "                           recipe_id integer NOT NULL,\n",
    "                           tag_id integer NOT NULL,\n",
    "                           FOREIGN KEY (recipe_id) REFERENCES recipes (id),\n",
    "                           FOREIGN KEY (tag_id) REFERENCES tags (id)\n",
    "                           );\"\"\" \n",
    "\n",
    "sql_create_recipes_ingredients = r\"\"\"CREATE TABLE IF NOT EXISTS recipes_ingredients (\n",
    "                                 id integer PRIMARY KEY,\n",
    "                                 recipe_id integer NOT NULL,\n",
    "                                 ingredient_id integer NOT NULL,\n",
    "                                 FOREIGN KEY (recipe_id) REFERENCES recipes (id),\n",
    "                                 FOREIGN KEY (ingredient_id) REFERENCES ingredients (id)\n",
    "                                 );\"\"\" \n",
    "\n",
    "# create a database connection\n",
    "conn = create_connection(db_file)\n",
    "\n",
    "# create tables\n",
    "if conn is not None:\n",
    "    create_table(conn, sql_create_ingredients_table)\n",
    "    create_table(conn, sql_create_tags_table)\n",
    "    create_table(conn, sql_create_recipes_table)\n",
    "    create_table(conn, sql_create_recipes_tags)\n",
    "    create_table(conn, sql_create_recipes_ingredients)\n",
    "else:\n",
    "    print(\"Error! cannot create the database connection.\")"
   ]
  },
  {
   "cell_type": "code",
   "execution_count": 72,
   "metadata": {},
   "outputs": [],
   "source": [
    "conn = create_connection(db_file)\n",
    "cur = conn.cursor()\n",
    "for idx, ingredient in enumerate(ingredients):\n",
    "    cur.execute('INSERT INTO ingredients VALUES(?,?)',(idx, ingredient))"
   ]
  },
  {
   "cell_type": "code",
   "execution_count": 73,
   "metadata": {},
   "outputs": [],
   "source": [
    "conn = create_connection(db_file)\n",
    "cur = conn.cursor()\n",
    "for idx, tag in enumerate(tags):\n",
    "    cur.execute('INSERT INTO tags VALUES(?,?)',(idx, tag))"
   ]
  },
  {
   "cell_type": "code",
   "execution_count": 76,
   "metadata": {},
   "outputs": [
    {
     "name": "stdout",
     "output_type": "stream",
     "text": [
      "nan\n"
     ]
    }
   ],
   "source": [
    "conn = create_connection(db_file)\n",
    "cur = conn.cursor()\n",
    "for idx, name in enumerate(df_recipes.name):\n",
    "    try:\n",
    "        cur.execute('INSERT INTO recipes VALUES(?,?)',(idx, name))\n",
    "    except:\n",
    "        print(name)"
   ]
  },
  {
   "cell_type": "code",
   "execution_count": 77,
   "metadata": {},
   "outputs": [],
   "source": [
    "cur.execute(\"select * from tags limit 10;\")\n",
    "for result in cur.fetchall():\n",
    "    print(result)"
   ]
  }
 ],
 "metadata": {
  "kernelspec": {
   "display_name": "Python 3",
   "language": "python",
   "name": "python3"
  },
  "language_info": {
   "codemirror_mode": {
    "name": "ipython",
    "version": 3
   },
   "file_extension": ".py",
   "mimetype": "text/x-python",
   "name": "python",
   "nbconvert_exporter": "python",
   "pygments_lexer": "ipython3",
   "version": "3.6.8"
  }
 },
 "nbformat": 4,
 "nbformat_minor": 4
}
