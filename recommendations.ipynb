{
 "cells": [
  {
   "cell_type": "markdown",
   "metadata": {},
   "source": [
    "### Loading Packages"
   ]
  },
  {
   "cell_type": "code",
   "execution_count": 46,
   "metadata": {},
   "outputs": [],
   "source": [
    "import os\n",
    "import sys\n",
    "import io\n",
    "import numpy as np\n",
    "import matplotlib.pyplot as plt\n",
    "import pandas as pd\n",
    "import math\n",
    "import string\n",
    "import operator\n",
    "\n",
    "import nltk\n",
    "import nltk.data\n",
    "from nltk.corpus import stopwords\n",
    "from nltk import word_tokenize\n",
    "from nltk.stem.porter import PorterStemmer\n",
    "\n",
    "from sklearn import model_selection\n",
    "from sklearn.feature_extraction.text import CountVectorizer\n",
    "from sklearn.feature_extraction.text import TfidfVectorizer \n",
    "from sklearn.cluster import KMeans\n",
    "from sklearn.metrics import roc_auc_score as AUC\n",
    "from sklearn.metrics.pairwise import cosine_similarity\n",
    "import scipy.spatial.distance as ssd\n",
    "from scipy.cluster.hierarchy import dendrogram, linkage\n",
    "import scipy.cluster.hierarchy as shc\n",
    "\n",
    "import networkx as nx\n",
    "\n",
    "import gensim\n",
    "from gensim import corpora\n",
    "from gensim import models\n",
    "from gensim import similarities\n",
    "from gensim.models import Word2Vec"
   ]
  },
  {
   "cell_type": "markdown",
   "metadata": {},
   "source": [
    "### Importing the saved dataframe"
   ]
  },
  {
   "cell_type": "code",
   "execution_count": 8,
   "metadata": {},
   "outputs": [
    {
     "data": {
      "text/html": [
       "<div>\n",
       "<style scoped>\n",
       "    .dataframe tbody tr th:only-of-type {\n",
       "        vertical-align: middle;\n",
       "    }\n",
       "\n",
       "    .dataframe tbody tr th {\n",
       "        vertical-align: top;\n",
       "    }\n",
       "\n",
       "    .dataframe thead th {\n",
       "        text-align: right;\n",
       "    }\n",
       "</style>\n",
       "<table border=\"1\" class=\"dataframe\">\n",
       "  <thead>\n",
       "    <tr style=\"text-align: right;\">\n",
       "      <th></th>\n",
       "      <th>old_id</th>\n",
       "      <th>name_tokens</th>\n",
       "      <th>ingredient_tokens</th>\n",
       "      <th>steps_tokens</th>\n",
       "      <th>techniques</th>\n",
       "      <th>calorie_level</th>\n",
       "      <th>ingredient_ids</th>\n",
       "      <th>name</th>\n",
       "      <th>minutes</th>\n",
       "      <th>contributor_id</th>\n",
       "      <th>submitted</th>\n",
       "      <th>tags</th>\n",
       "      <th>nutrition</th>\n",
       "      <th>n_steps</th>\n",
       "      <th>steps</th>\n",
       "      <th>description</th>\n",
       "      <th>ingredients</th>\n",
       "      <th>n_ingredients</th>\n",
       "    </tr>\n",
       "    <tr>\n",
       "      <th>id</th>\n",
       "      <th></th>\n",
       "      <th></th>\n",
       "      <th></th>\n",
       "      <th></th>\n",
       "      <th></th>\n",
       "      <th></th>\n",
       "      <th></th>\n",
       "      <th></th>\n",
       "      <th></th>\n",
       "      <th></th>\n",
       "      <th></th>\n",
       "      <th></th>\n",
       "      <th></th>\n",
       "      <th></th>\n",
       "      <th></th>\n",
       "      <th></th>\n",
       "      <th></th>\n",
       "      <th></th>\n",
       "    </tr>\n",
       "  </thead>\n",
       "  <tbody>\n",
       "    <tr>\n",
       "      <td>424415</td>\n",
       "      <td>23</td>\n",
       "      <td>[40480, 37229, 2911, 1019, 249, 6878, 6878, 28...</td>\n",
       "      <td>[[2911, 1019, 249, 6878], [1353], [6953], [153...</td>\n",
       "      <td>[40480, 40482, 21662, 481, 6878, 500, 246, 161...</td>\n",
       "      <td>[0, 0, 0, 0, 0, 0, 0, 0, 0, 1, 0, 0, 0, 0, 0, ...</td>\n",
       "      <td>0</td>\n",
       "      <td>[389, 7655, 6270, 1527, 3406]</td>\n",
       "      <td>aromatic basmati rice  rice cooker</td>\n",
       "      <td>61</td>\n",
       "      <td>496803</td>\n",
       "      <td>2010-05-10</td>\n",
       "      <td>[weeknight, time-to-make, course, main-ingredi...</td>\n",
       "      <td>[228.2, 2.0, 2.0, 8.0, 9.0, 1.0, 15.0]</td>\n",
       "      <td>6</td>\n",
       "      <td>[rinse the rice in a fine strainer , then drai...</td>\n",
       "      <td>from the ultimate rice cooker cookbook.  the a...</td>\n",
       "      <td>[basmati rice, water, salt, cinnamon stick, gr...</td>\n",
       "      <td>5</td>\n",
       "    </tr>\n",
       "    <tr>\n",
       "      <td>146223</td>\n",
       "      <td>96900</td>\n",
       "      <td>[40480, 18376, 7056, 246, 1531, 2032, 40481]</td>\n",
       "      <td>[[17918], [25916], [2507, 6444], [8467, 1179],...</td>\n",
       "      <td>[40480, 40482, 729, 2525, 10906, 485, 43, 8393...</td>\n",
       "      <td>[1, 0, 0, 0, 0, 0, 0, 0, 0, 1, 0, 0, 0, 0, 0, ...</td>\n",
       "      <td>0</td>\n",
       "      <td>[2683, 4969, 800, 5298, 840, 2499, 6632, 7022,...</td>\n",
       "      <td>pumpkin pie a la easy</td>\n",
       "      <td>55</td>\n",
       "      <td>229619</td>\n",
       "      <td>2005-11-25</td>\n",
       "      <td>[60-minutes-or-less, time-to-make, course, pre...</td>\n",
       "      <td>[249.4, 16.0, 92.0, 8.0, 11.0, 27.0, 11.0]</td>\n",
       "      <td>10</td>\n",
       "      <td>[preheat oven to 350, combine flour , oats , b...</td>\n",
       "      <td>this is a pampered chef recipe for their stone...</td>\n",
       "      <td>[flour, oats, brown sugar, pecans, butter, egg...</td>\n",
       "      <td>12</td>\n",
       "    </tr>\n",
       "    <tr>\n",
       "      <td>312329</td>\n",
       "      <td>120056</td>\n",
       "      <td>[40480, 21044, 16954, 8294, 556, 10837, 40481]</td>\n",
       "      <td>[[5867, 24176], [1353], [6953], [1301, 11332],...</td>\n",
       "      <td>[40480, 40482, 8240, 481, 24176, 296, 1353, 66...</td>\n",
       "      <td>[0, 0, 0, 0, 1, 0, 0, 0, 0, 0, 0, 1, 0, 0, 0, ...</td>\n",
       "      <td>1</td>\n",
       "      <td>[1257, 7655, 6270, 590, 5024, 1119, 4883, 6696...</td>\n",
       "      <td>cheesy tomato soup with potatoes</td>\n",
       "      <td>25</td>\n",
       "      <td>621626</td>\n",
       "      <td>2008-07-07</td>\n",
       "      <td>[30-minutes-or-less, time-to-make, course, mai...</td>\n",
       "      <td>[351.3, 34.0, 15.0, 50.0, 25.0, 70.0, 8.0]</td>\n",
       "      <td>6</td>\n",
       "      <td>[pour the broth &amp; water into a large pot, add ...</td>\n",
       "      <td>after modifying another recipe i came up with ...</td>\n",
       "      <td>[chicken broth, water, salt, black pepper, oni...</td>\n",
       "      <td>15</td>\n",
       "    </tr>\n",
       "    <tr>\n",
       "      <td>74301</td>\n",
       "      <td>168258</td>\n",
       "      <td>[40480, 10025, 31156, 40481]</td>\n",
       "      <td>[[1270, 1645, 28447], [21601], [27952, 29471, ...</td>\n",
       "      <td>[40480, 40482, 5539, 21601, 1073, 903, 2324, 4...</td>\n",
       "      <td>[1, 0, 0, 0, 0, 0, 0, 0, 0, 0, 0, 0, 0, 0, 0, ...</td>\n",
       "      <td>0</td>\n",
       "      <td>[7940, 3609, 7060, 6265, 1170, 6654, 5003, 3561]</td>\n",
       "      <td>mini tacos</td>\n",
       "      <td>15</td>\n",
       "      <td>60989</td>\n",
       "      <td>2003-10-29</td>\n",
       "      <td>[15-minutes-or-less, time-to-make, course, mai...</td>\n",
       "      <td>[79.7, 5.0, 2.0, 11.0, 11.0, 7.0, 2.0]</td>\n",
       "      <td>8</td>\n",
       "      <td>[cook hamburger until browned, drain the fat a...</td>\n",
       "      <td>these can be a easy appetizer or a light dinne...</td>\n",
       "      <td>[wonton wrappers, hamburger, taco seasoning, s...</td>\n",
       "      <td>8</td>\n",
       "    </tr>\n",
       "    <tr>\n",
       "      <td>76272</td>\n",
       "      <td>109030</td>\n",
       "      <td>[40480, 17841, 252, 782, 2373, 1641, 2373, 252...</td>\n",
       "      <td>[[1430, 11434], [1430, 17027], [1615, 23, 695,...</td>\n",
       "      <td>[40480, 40482, 14046, 1430, 11434, 488, 17027,...</td>\n",
       "      <td>[0, 0, 0, 0, 0, 0, 0, 0, 0, 1, 0, 0, 0, 0, 0, ...</td>\n",
       "      <td>0</td>\n",
       "      <td>[3484, 6324, 7594, 243]</td>\n",
       "      <td>rosemary s hanky panky s</td>\n",
       "      <td>20</td>\n",
       "      <td>93444</td>\n",
       "      <td>2003-11-12</td>\n",
       "      <td>[30-minutes-or-less, time-to-make, course, pre...</td>\n",
       "      <td>[240.7, 29.0, 9.0, 28.0, 27.0, 42.0, 0.0]</td>\n",
       "      <td>5</td>\n",
       "      <td>[fry ground beef and sausage until browned, dr...</td>\n",
       "      <td>my girlfriend rosemary gave me this wonderfull...</td>\n",
       "      <td>[ground beef, ground sausage, velveeta cheese,...</td>\n",
       "      <td>4</td>\n",
       "    </tr>\n",
       "  </tbody>\n",
       "</table>\n",
       "</div>"
      ],
      "text/plain": [
       "        old_id                                        name_tokens  \\\n",
       "id                                                                  \n",
       "424415      23  [40480, 37229, 2911, 1019, 249, 6878, 6878, 28...   \n",
       "146223   96900       [40480, 18376, 7056, 246, 1531, 2032, 40481]   \n",
       "312329  120056     [40480, 21044, 16954, 8294, 556, 10837, 40481]   \n",
       "74301   168258                       [40480, 10025, 31156, 40481]   \n",
       "76272   109030  [40480, 17841, 252, 782, 2373, 1641, 2373, 252...   \n",
       "\n",
       "                                        ingredient_tokens  \\\n",
       "id                                                          \n",
       "424415  [[2911, 1019, 249, 6878], [1353], [6953], [153...   \n",
       "146223  [[17918], [25916], [2507, 6444], [8467, 1179],...   \n",
       "312329  [[5867, 24176], [1353], [6953], [1301, 11332],...   \n",
       "74301   [[1270, 1645, 28447], [21601], [27952, 29471, ...   \n",
       "76272   [[1430, 11434], [1430, 17027], [1615, 23, 695,...   \n",
       "\n",
       "                                             steps_tokens  \\\n",
       "id                                                          \n",
       "424415  [40480, 40482, 21662, 481, 6878, 500, 246, 161...   \n",
       "146223  [40480, 40482, 729, 2525, 10906, 485, 43, 8393...   \n",
       "312329  [40480, 40482, 8240, 481, 24176, 296, 1353, 66...   \n",
       "74301   [40480, 40482, 5539, 21601, 1073, 903, 2324, 4...   \n",
       "76272   [40480, 40482, 14046, 1430, 11434, 488, 17027,...   \n",
       "\n",
       "                                               techniques  calorie_level  \\\n",
       "id                                                                         \n",
       "424415  [0, 0, 0, 0, 0, 0, 0, 0, 0, 1, 0, 0, 0, 0, 0, ...              0   \n",
       "146223  [1, 0, 0, 0, 0, 0, 0, 0, 0, 1, 0, 0, 0, 0, 0, ...              0   \n",
       "312329  [0, 0, 0, 0, 1, 0, 0, 0, 0, 0, 0, 1, 0, 0, 0, ...              1   \n",
       "74301   [1, 0, 0, 0, 0, 0, 0, 0, 0, 0, 0, 0, 0, 0, 0, ...              0   \n",
       "76272   [0, 0, 0, 0, 0, 0, 0, 0, 0, 1, 0, 0, 0, 0, 0, ...              0   \n",
       "\n",
       "                                           ingredient_ids  \\\n",
       "id                                                          \n",
       "424415                      [389, 7655, 6270, 1527, 3406]   \n",
       "146223  [2683, 4969, 800, 5298, 840, 2499, 6632, 7022,...   \n",
       "312329  [1257, 7655, 6270, 590, 5024, 1119, 4883, 6696...   \n",
       "74301    [7940, 3609, 7060, 6265, 1170, 6654, 5003, 3561]   \n",
       "76272                             [3484, 6324, 7594, 243]   \n",
       "\n",
       "                                      name  minutes  contributor_id  \\\n",
       "id                                                                    \n",
       "424415  aromatic basmati rice  rice cooker       61          496803   \n",
       "146223               pumpkin pie a la easy       55          229619   \n",
       "312329    cheesy tomato soup with potatoes       25          621626   \n",
       "74301                           mini tacos       15           60989   \n",
       "76272             rosemary s hanky panky s       20           93444   \n",
       "\n",
       "         submitted                                               tags  \\\n",
       "id                                                                      \n",
       "424415  2010-05-10  [weeknight, time-to-make, course, main-ingredi...   \n",
       "146223  2005-11-25  [60-minutes-or-less, time-to-make, course, pre...   \n",
       "312329  2008-07-07  [30-minutes-or-less, time-to-make, course, mai...   \n",
       "74301   2003-10-29  [15-minutes-or-less, time-to-make, course, mai...   \n",
       "76272   2003-11-12  [30-minutes-or-less, time-to-make, course, pre...   \n",
       "\n",
       "                                         nutrition  n_steps  \\\n",
       "id                                                            \n",
       "424415      [228.2, 2.0, 2.0, 8.0, 9.0, 1.0, 15.0]        6   \n",
       "146223  [249.4, 16.0, 92.0, 8.0, 11.0, 27.0, 11.0]       10   \n",
       "312329  [351.3, 34.0, 15.0, 50.0, 25.0, 70.0, 8.0]        6   \n",
       "74301       [79.7, 5.0, 2.0, 11.0, 11.0, 7.0, 2.0]        8   \n",
       "76272    [240.7, 29.0, 9.0, 28.0, 27.0, 42.0, 0.0]        5   \n",
       "\n",
       "                                                    steps  \\\n",
       "id                                                          \n",
       "424415  [rinse the rice in a fine strainer , then drai...   \n",
       "146223  [preheat oven to 350, combine flour , oats , b...   \n",
       "312329  [pour the broth & water into a large pot, add ...   \n",
       "74301   [cook hamburger until browned, drain the fat a...   \n",
       "76272   [fry ground beef and sausage until browned, dr...   \n",
       "\n",
       "                                              description  \\\n",
       "id                                                          \n",
       "424415  from the ultimate rice cooker cookbook.  the a...   \n",
       "146223  this is a pampered chef recipe for their stone...   \n",
       "312329  after modifying another recipe i came up with ...   \n",
       "74301   these can be a easy appetizer or a light dinne...   \n",
       "76272   my girlfriend rosemary gave me this wonderfull...   \n",
       "\n",
       "                                              ingredients  n_ingredients  \n",
       "id                                                                        \n",
       "424415  [basmati rice, water, salt, cinnamon stick, gr...              5  \n",
       "146223  [flour, oats, brown sugar, pecans, butter, egg...             12  \n",
       "312329  [chicken broth, water, salt, black pepper, oni...             15  \n",
       "74301   [wonton wrappers, hamburger, taco seasoning, s...              8  \n",
       "76272   [ground beef, ground sausage, velveeta cheese,...              4  "
      ]
     },
     "execution_count": 8,
     "metadata": {},
     "output_type": "execute_result"
    }
   ],
   "source": [
    "df_recipes = pd.read_pickle('./basic_features.pkl.bz2')\n",
    "df_recipes.head()"
   ]
  },
  {
   "cell_type": "code",
   "execution_count": 9,
   "metadata": {},
   "outputs": [
    {
     "name": "stdout",
     "output_type": "stream",
     "text": [
      "<class 'pandas.core.frame.DataFrame'>\n",
      "Int64Index: 178265 entries, 424415 to 263840\n",
      "Data columns (total 18 columns):\n",
      "old_id               178265 non-null int64\n",
      "name_tokens          178265 non-null object\n",
      "ingredient_tokens    178265 non-null object\n",
      "steps_tokens         178265 non-null object\n",
      "techniques           178265 non-null object\n",
      "calorie_level        178265 non-null int64\n",
      "ingredient_ids       178265 non-null object\n",
      "name                 178265 non-null object\n",
      "minutes              178265 non-null int64\n",
      "contributor_id       178265 non-null int64\n",
      "submitted            178265 non-null object\n",
      "tags                 178265 non-null object\n",
      "nutrition            178265 non-null object\n",
      "n_steps              178265 non-null int64\n",
      "steps                178265 non-null object\n",
      "description          174311 non-null object\n",
      "ingredients          178265 non-null object\n",
      "n_ingredients        178265 non-null int64\n",
      "dtypes: int64(6), object(12)\n",
      "memory usage: 25.8+ MB\n"
     ]
    }
   ],
   "source": [
    "df_recipes.info()"
   ]
  },
  {
   "cell_type": "code",
   "execution_count": 10,
   "metadata": {},
   "outputs": [
    {
     "name": "stdout",
     "output_type": "stream",
     "text": [
      "['basmati rice', 'water', 'salt', 'cinnamon stick', 'green cardamom pods']\n",
      "[389, 7655, 6270, 1527, 3406]\n"
     ]
    }
   ],
   "source": [
    "print(df_recipes['ingredients'].iloc[0])\n",
    "print(df_recipes['ingredient_ids'].iloc[0])"
   ]
  },
  {
   "cell_type": "code",
   "execution_count": 23,
   "metadata": {},
   "outputs": [],
   "source": [
    "selected = pd.read_csv(\"./selected_recipes.csv\")\n",
    "selected.set_index([\"id_recipe\"], drop=True, inplace=True)\n",
    "selected.drop(['Unnamed: 0', 'minutes', 'ingredients'], axis=1, inplace=True)"
   ]
  },
  {
   "cell_type": "code",
   "execution_count": 24,
   "metadata": {},
   "outputs": [
    {
     "name": "stdout",
     "output_type": "stream",
     "text": [
      "<class 'pandas.core.frame.DataFrame'>\n",
      "Int64Index: 72 entries, 91809 to 424845\n",
      "Data columns (total 12 columns):\n",
      "image            72 non-null object\n",
      "nationality      72 non-null object\n",
      "rating           72 non-null float64\n",
      "calories         72 non-null float64\n",
      "total fat        72 non-null float64\n",
      "sugar            72 non-null float64\n",
      "sodium           72 non-null float64\n",
      "protein          72 non-null float64\n",
      "saturated fat    72 non-null float64\n",
      "carbohydrates    72 non-null float64\n",
      "original_name    72 non-null object\n",
      "recipe           72 non-null object\n",
      "dtypes: float64(8), object(4)\n",
      "memory usage: 7.3+ KB\n"
     ]
    }
   ],
   "source": [
    "selected.info()"
   ]
  },
  {
   "cell_type": "code",
   "execution_count": 25,
   "metadata": {},
   "outputs": [],
   "source": [
    "selected = selected.merge(df_recipes, left_index=True, right_index=True)"
   ]
  },
  {
   "cell_type": "code",
   "execution_count": 26,
   "metadata": {},
   "outputs": [
    {
     "data": {
      "text/html": [
       "<div>\n",
       "<style scoped>\n",
       "    .dataframe tbody tr th:only-of-type {\n",
       "        vertical-align: middle;\n",
       "    }\n",
       "\n",
       "    .dataframe tbody tr th {\n",
       "        vertical-align: top;\n",
       "    }\n",
       "\n",
       "    .dataframe thead th {\n",
       "        text-align: right;\n",
       "    }\n",
       "</style>\n",
       "<table border=\"1\" class=\"dataframe\">\n",
       "  <thead>\n",
       "    <tr style=\"text-align: right;\">\n",
       "      <th></th>\n",
       "      <th>image</th>\n",
       "      <th>nationality</th>\n",
       "      <th>rating</th>\n",
       "      <th>calories</th>\n",
       "      <th>total fat</th>\n",
       "      <th>sugar</th>\n",
       "      <th>sodium</th>\n",
       "      <th>protein</th>\n",
       "      <th>saturated fat</th>\n",
       "      <th>carbohydrates</th>\n",
       "      <th>...</th>\n",
       "      <th>minutes</th>\n",
       "      <th>contributor_id</th>\n",
       "      <th>submitted</th>\n",
       "      <th>tags</th>\n",
       "      <th>nutrition</th>\n",
       "      <th>n_steps</th>\n",
       "      <th>steps</th>\n",
       "      <th>description</th>\n",
       "      <th>ingredients</th>\n",
       "      <th>n_ingredients</th>\n",
       "    </tr>\n",
       "  </thead>\n",
       "  <tbody>\n",
       "    <tr>\n",
       "      <td>263437</td>\n",
       "      <td>https://www.196flavors.com/wp-content/uploads/...</td>\n",
       "      <td>Iranian</td>\n",
       "      <td>5.0</td>\n",
       "      <td>352.2</td>\n",
       "      <td>18.0</td>\n",
       "      <td>110.0</td>\n",
       "      <td>20.0</td>\n",
       "      <td>43.0</td>\n",
       "      <td>24.0</td>\n",
       "      <td>14.0</td>\n",
       "      <td>...</td>\n",
       "      <td>90</td>\n",
       "      <td>637268</td>\n",
       "      <td>2007-11-05</td>\n",
       "      <td>[time-to-make, course, main-ingredient, cuisin...</td>\n",
       "      <td>[352.2, 18.0, 110.0, 20.0, 43.0, 24.0, 14.0]</td>\n",
       "      <td>12</td>\n",
       "      <td>[peel the eggplant and cut it lengthwise in ha...</td>\n",
       "      <td>bademjan means “eggplant” in farsi (otherwise ...</td>\n",
       "      <td>[eggplant, lamb, tomato paste, lemon, onion, t...</td>\n",
       "      <td>7</td>\n",
       "    </tr>\n",
       "    <tr>\n",
       "      <td>425696</td>\n",
       "      <td>http://www.anupskitchen.com/wp-content/uploads...</td>\n",
       "      <td>Iranian</td>\n",
       "      <td>4.0</td>\n",
       "      <td>280.5</td>\n",
       "      <td>12.0</td>\n",
       "      <td>9.0</td>\n",
       "      <td>19.0</td>\n",
       "      <td>64.0</td>\n",
       "      <td>16.0</td>\n",
       "      <td>6.0</td>\n",
       "      <td>...</td>\n",
       "      <td>105</td>\n",
       "      <td>480195</td>\n",
       "      <td>2010-05-16</td>\n",
       "      <td>[time-to-make, preparation, 4-hours-or-less]</td>\n",
       "      <td>[280.5, 12.0, 9.0, 19.0, 64.0, 16.0, 6.0]</td>\n",
       "      <td>17</td>\n",
       "      <td>[simmer lamb , whole dried limes , garlic and ...</td>\n",
       "      <td>for zwt 6 - middle east. i got this recipe fro...</td>\n",
       "      <td>[lean lamb, dried limes, garlic cloves, water,...</td>\n",
       "      <td>13</td>\n",
       "    </tr>\n",
       "  </tbody>\n",
       "</table>\n",
       "<p>2 rows × 30 columns</p>\n",
       "</div>"
      ],
      "text/plain": [
       "                                                    image nationality  rating  \\\n",
       "263437  https://www.196flavors.com/wp-content/uploads/...     Iranian     5.0   \n",
       "425696  http://www.anupskitchen.com/wp-content/uploads...     Iranian     4.0   \n",
       "\n",
       "        calories  total fat  sugar  sodium  protein  saturated fat  \\\n",
       "263437     352.2       18.0  110.0    20.0     43.0           24.0   \n",
       "425696     280.5       12.0    9.0    19.0     64.0           16.0   \n",
       "\n",
       "        carbohydrates  ... minutes contributor_id   submitted  \\\n",
       "263437           14.0  ...      90         637268  2007-11-05   \n",
       "425696            6.0  ...     105         480195  2010-05-16   \n",
       "\n",
       "                                                     tags  \\\n",
       "263437  [time-to-make, course, main-ingredient, cuisin...   \n",
       "425696       [time-to-make, preparation, 4-hours-or-less]   \n",
       "\n",
       "                                           nutrition n_steps  \\\n",
       "263437  [352.2, 18.0, 110.0, 20.0, 43.0, 24.0, 14.0]      12   \n",
       "425696     [280.5, 12.0, 9.0, 19.0, 64.0, 16.0, 6.0]      17   \n",
       "\n",
       "                                                    steps  \\\n",
       "263437  [peel the eggplant and cut it lengthwise in ha...   \n",
       "425696  [simmer lamb , whole dried limes , garlic and ...   \n",
       "\n",
       "                                              description  \\\n",
       "263437  bademjan means “eggplant” in farsi (otherwise ...   \n",
       "425696  for zwt 6 - middle east. i got this recipe fro...   \n",
       "\n",
       "                                              ingredients n_ingredients  \n",
       "263437  [eggplant, lamb, tomato paste, lemon, onion, t...             7  \n",
       "425696  [lean lamb, dried limes, garlic cloves, water,...            13  \n",
       "\n",
       "[2 rows x 30 columns]"
      ]
     },
     "execution_count": 26,
     "metadata": {},
     "output_type": "execute_result"
    }
   ],
   "source": [
    "selected.head(2)"
   ]
  },
  {
   "cell_type": "code",
   "execution_count": 27,
   "metadata": {},
   "outputs": [
    {
     "name": "stdout",
     "output_type": "stream",
     "text": [
      "<class 'pandas.core.frame.DataFrame'>\n",
      "Int64Index: 42 entries, 263437 to 424874\n",
      "Data columns (total 30 columns):\n",
      "image                42 non-null object\n",
      "nationality          42 non-null object\n",
      "rating               42 non-null float64\n",
      "calories             42 non-null float64\n",
      "total fat            42 non-null float64\n",
      "sugar                42 non-null float64\n",
      "sodium               42 non-null float64\n",
      "protein              42 non-null float64\n",
      "saturated fat        42 non-null float64\n",
      "carbohydrates        42 non-null float64\n",
      "original_name        42 non-null object\n",
      "recipe               42 non-null object\n",
      "old_id               42 non-null int64\n",
      "name_tokens          42 non-null object\n",
      "ingredient_tokens    42 non-null object\n",
      "steps_tokens         42 non-null object\n",
      "techniques           42 non-null object\n",
      "calorie_level        42 non-null int64\n",
      "ingredient_ids       42 non-null object\n",
      "name                 42 non-null object\n",
      "minutes              42 non-null int64\n",
      "contributor_id       42 non-null int64\n",
      "submitted            42 non-null object\n",
      "tags                 42 non-null object\n",
      "nutrition            42 non-null object\n",
      "n_steps              42 non-null int64\n",
      "steps                42 non-null object\n",
      "description          42 non-null object\n",
      "ingredients          42 non-null object\n",
      "n_ingredients        42 non-null int64\n",
      "dtypes: float64(8), int64(6), object(16)\n",
      "memory usage: 10.2+ KB\n"
     ]
    }
   ],
   "source": [
    "selected.info()"
   ]
  },
  {
   "cell_type": "markdown",
   "metadata": {},
   "source": [
    "### Creating the vectors for calculating similarities"
   ]
  },
  {
   "cell_type": "code",
   "execution_count": 28,
   "metadata": {},
   "outputs": [],
   "source": [
    "ingredients = {}\n",
    "for idx in selected.index:\n",
    "    temp = dict(zip(selected.loc[idx, \"ingredient_ids\"],selected.loc[idx, \"ingredients\"]))\n",
    "    ingredients.update(temp)"
   ]
  },
  {
   "cell_type": "code",
   "execution_count": 29,
   "metadata": {},
   "outputs": [],
   "source": [
    "ingredients_matrix = np.zeros((len(selected),max(ingredients)+1), dtype=np.int8, order='C')"
   ]
  },
  {
   "cell_type": "code",
   "execution_count": 30,
   "metadata": {},
   "outputs": [
    {
     "data": {
      "text/plain": [
       "(42, 8022)"
      ]
     },
     "execution_count": 30,
     "metadata": {},
     "output_type": "execute_result"
    }
   ],
   "source": [
    "ingredients_matrix.shape"
   ]
  },
  {
   "cell_type": "code",
   "execution_count": 31,
   "metadata": {},
   "outputs": [],
   "source": [
    "for idx, idx2 in enumerate(selected.index):\n",
    "    for ing in selected.loc[idx2,\"ingredient_ids\"]:\n",
    "        ingredients_matrix[idx,ing] = 1"
   ]
  },
  {
   "cell_type": "code",
   "execution_count": 32,
   "metadata": {},
   "outputs": [
    {
     "data": {
      "text/plain": [
       "397"
      ]
     },
     "execution_count": 32,
     "metadata": {},
     "output_type": "execute_result"
    }
   ],
   "source": [
    "len(ingredients_matrix[ingredients_matrix > 0])"
   ]
  },
  {
   "cell_type": "markdown",
   "metadata": {},
   "source": [
    "#### Creating the dish x ingredient matrix from dictionary"
   ]
  },
  {
   "cell_type": "code",
   "execution_count": 34,
   "metadata": {},
   "outputs": [
    {
     "data": {
      "text/html": [
       "<div>\n",
       "<style scoped>\n",
       "    .dataframe tbody tr th:only-of-type {\n",
       "        vertical-align: middle;\n",
       "    }\n",
       "\n",
       "    .dataframe tbody tr th {\n",
       "        vertical-align: top;\n",
       "    }\n",
       "\n",
       "    .dataframe thead th {\n",
       "        text-align: right;\n",
       "    }\n",
       "</style>\n",
       "<table border=\"1\" class=\"dataframe\">\n",
       "  <thead>\n",
       "    <tr style=\"text-align: right;\">\n",
       "      <th></th>\n",
       "      <th>63</th>\n",
       "      <th>81</th>\n",
       "      <th>122</th>\n",
       "      <th>150</th>\n",
       "      <th>221</th>\n",
       "      <th>288</th>\n",
       "      <th>332</th>\n",
       "      <th>335</th>\n",
       "      <th>382</th>\n",
       "      <th>384</th>\n",
       "      <th>...</th>\n",
       "      <th>7821</th>\n",
       "      <th>7853</th>\n",
       "      <th>7887</th>\n",
       "      <th>7946</th>\n",
       "      <th>7956</th>\n",
       "      <th>7962</th>\n",
       "      <th>7979</th>\n",
       "      <th>7987</th>\n",
       "      <th>7998</th>\n",
       "      <th>8021</th>\n",
       "    </tr>\n",
       "  </thead>\n",
       "  <tbody>\n",
       "    <tr>\n",
       "      <td>263437</td>\n",
       "      <td>0</td>\n",
       "      <td>0</td>\n",
       "      <td>0</td>\n",
       "      <td>0</td>\n",
       "      <td>0</td>\n",
       "      <td>0</td>\n",
       "      <td>0</td>\n",
       "      <td>0</td>\n",
       "      <td>0</td>\n",
       "      <td>0</td>\n",
       "      <td>...</td>\n",
       "      <td>0</td>\n",
       "      <td>0</td>\n",
       "      <td>0</td>\n",
       "      <td>0</td>\n",
       "      <td>0</td>\n",
       "      <td>0</td>\n",
       "      <td>0</td>\n",
       "      <td>0</td>\n",
       "      <td>0</td>\n",
       "      <td>0</td>\n",
       "    </tr>\n",
       "    <tr>\n",
       "      <td>425696</td>\n",
       "      <td>0</td>\n",
       "      <td>0</td>\n",
       "      <td>0</td>\n",
       "      <td>0</td>\n",
       "      <td>0</td>\n",
       "      <td>0</td>\n",
       "      <td>0</td>\n",
       "      <td>0</td>\n",
       "      <td>0</td>\n",
       "      <td>0</td>\n",
       "      <td>...</td>\n",
       "      <td>0</td>\n",
       "      <td>0</td>\n",
       "      <td>0</td>\n",
       "      <td>0</td>\n",
       "      <td>0</td>\n",
       "      <td>0</td>\n",
       "      <td>0</td>\n",
       "      <td>0</td>\n",
       "      <td>0</td>\n",
       "      <td>0</td>\n",
       "    </tr>\n",
       "    <tr>\n",
       "      <td>157525</td>\n",
       "      <td>0</td>\n",
       "      <td>0</td>\n",
       "      <td>0</td>\n",
       "      <td>0</td>\n",
       "      <td>0</td>\n",
       "      <td>0</td>\n",
       "      <td>0</td>\n",
       "      <td>0</td>\n",
       "      <td>0</td>\n",
       "      <td>0</td>\n",
       "      <td>...</td>\n",
       "      <td>0</td>\n",
       "      <td>0</td>\n",
       "      <td>0</td>\n",
       "      <td>0</td>\n",
       "      <td>0</td>\n",
       "      <td>0</td>\n",
       "      <td>0</td>\n",
       "      <td>0</td>\n",
       "      <td>0</td>\n",
       "      <td>0</td>\n",
       "    </tr>\n",
       "    <tr>\n",
       "      <td>439341</td>\n",
       "      <td>0</td>\n",
       "      <td>0</td>\n",
       "      <td>0</td>\n",
       "      <td>0</td>\n",
       "      <td>0</td>\n",
       "      <td>0</td>\n",
       "      <td>0</td>\n",
       "      <td>0</td>\n",
       "      <td>0</td>\n",
       "      <td>0</td>\n",
       "      <td>...</td>\n",
       "      <td>0</td>\n",
       "      <td>0</td>\n",
       "      <td>0</td>\n",
       "      <td>0</td>\n",
       "      <td>0</td>\n",
       "      <td>0</td>\n",
       "      <td>0</td>\n",
       "      <td>0</td>\n",
       "      <td>0</td>\n",
       "      <td>0</td>\n",
       "    </tr>\n",
       "    <tr>\n",
       "      <td>173527</td>\n",
       "      <td>0</td>\n",
       "      <td>1</td>\n",
       "      <td>0</td>\n",
       "      <td>0</td>\n",
       "      <td>0</td>\n",
       "      <td>0</td>\n",
       "      <td>1</td>\n",
       "      <td>1</td>\n",
       "      <td>0</td>\n",
       "      <td>0</td>\n",
       "      <td>...</td>\n",
       "      <td>0</td>\n",
       "      <td>1</td>\n",
       "      <td>0</td>\n",
       "      <td>0</td>\n",
       "      <td>0</td>\n",
       "      <td>0</td>\n",
       "      <td>0</td>\n",
       "      <td>0</td>\n",
       "      <td>0</td>\n",
       "      <td>0</td>\n",
       "    </tr>\n",
       "  </tbody>\n",
       "</table>\n",
       "<p>5 rows × 241 columns</p>\n",
       "</div>"
      ],
      "text/plain": [
       "        63    81    122   150   221   288   332   335   382   384   ...  7821  \\\n",
       "263437     0     0     0     0     0     0     0     0     0     0  ...     0   \n",
       "425696     0     0     0     0     0     0     0     0     0     0  ...     0   \n",
       "157525     0     0     0     0     0     0     0     0     0     0  ...     0   \n",
       "439341     0     0     0     0     0     0     0     0     0     0  ...     0   \n",
       "173527     0     1     0     0     0     0     1     1     0     0  ...     0   \n",
       "\n",
       "        7853  7887  7946  7956  7962  7979  7987  7998  8021  \n",
       "263437     0     0     0     0     0     0     0     0     0  \n",
       "425696     0     0     0     0     0     0     0     0     0  \n",
       "157525     0     0     0     0     0     0     0     0     0  \n",
       "439341     0     0     0     0     0     0     0     0     0  \n",
       "173527     1     0     0     0     0     0     0     0     0  \n",
       "\n",
       "[5 rows x 241 columns]"
      ]
     },
     "execution_count": 34,
     "metadata": {},
     "output_type": "execute_result"
    }
   ],
   "source": [
    "df_ingredients = pd.DataFrame(data=ingredients_matrix,\n",
    "                              index=selected.index,\n",
    "                              #columns=ingredients.values()\n",
    "                              )\n",
    "#df_ingredients.reset_index(inplace=True)\n",
    "df_ingredients = df_ingredients.loc[:, (df_ingredients != 0).any(axis=0)]\n",
    "\n",
    "df_ingredients.head()"
   ]
  },
  {
   "cell_type": "markdown",
   "metadata": {},
   "source": [
    "### Testing the similarity function\n",
    "(with the selected recipes)"
   ]
  },
  {
   "cell_type": "code",
   "execution_count": 35,
   "metadata": {},
   "outputs": [
    {
     "data": {
      "text/plain": [
       "263437                   Bademjan\n",
       "425696               Gormeh Sabzi\n",
       "157525              Jeweled Rice \n",
       "439341                    Baklava\n",
       "173527                  Basbousa \n",
       "280393                  Fattoush \n",
       "173528               Ful Medames \n",
       "204332                 Muhammara \n",
       "33606                       Pasta\n",
       "455567                  Doro Wat \n",
       "316669                     Coffee\n",
       "157174                 Rogan Josh\n",
       "481431                      Lassi\n",
       "108634           Tandoori Chicken\n",
       "357820               Palak paneer\n",
       "499504                       Naan\n",
       "366562       Chicken Tikka Masala\n",
       "199655                Chilaquiles\n",
       "81185                        Mole\n",
       "72065                     Tamales\n",
       "405929                     Pozole\n",
       "99043             Tacos al Pastor\n",
       "197709             Pan con tomate\n",
       "190891                    Chorizo\n",
       "66329              Patatas bravas\n",
       "254556                  Croquetas\n",
       "84797                      Fondue\n",
       "86768                       Rosti\n",
       "33778              milk chocolate\n",
       "40601                 Tartiflette\n",
       "148709           Beef bourguignon\n",
       "388345                Ratatouille\n",
       "475313                Tarte tatin\n",
       "160696            Pasta Carbonara\n",
       "75750                    Arancini\n",
       "270311           Pizza Margherita\n",
       "224037                    Lasagne\n",
       "455952                Parmigiana \n",
       "351191          Pasta Amatriciana\n",
       "231225    Saltimbocca alla romana\n",
       "25259                    Tiramisu\n",
       "424874                 Tafelspitz\n",
       "Name: original_name, dtype: object"
      ]
     },
     "execution_count": 35,
     "metadata": {},
     "output_type": "execute_result"
    }
   ],
   "source": [
    "selected.original_name"
   ]
  },
  {
   "cell_type": "code",
   "execution_count": 38,
   "metadata": {},
   "outputs": [
    {
     "name": "stdout",
     "output_type": "stream",
     "text": [
      "Dishes similar to: Muhammara \n",
      "\n",
      "Muhammara \n",
      "Coffee\n",
      "Croquetas\n",
      "Fattoush \n",
      "Patatas bravas\n",
      "Ratatouille\n",
      "Chicken Tikka Masala\n",
      "Ful Medames \n",
      "Pan con tomate\n",
      "Naan\n",
      "Bademjan\n",
      "Mole\n",
      "Chorizo\n",
      "Pizza Margherita\n",
      "Saltimbocca alla romana\n",
      "Chilaquiles\n",
      "Tartiflette\n",
      "Lassi\n",
      "Fondue\n",
      "Tacos al Pastor\n",
      "Tafelspitz\n",
      "Beef bourguignon\n",
      "Palak paneer\n",
      "Pasta\n",
      "Doro Wat \n",
      "Gormeh Sabzi\n",
      "Jeweled Rice \n",
      "Baklava\n",
      "Basbousa \n",
      "Rogan Josh\n",
      "Tandoori Chicken\n",
      "Tamales\n",
      "Pozole\n",
      "Rosti\n",
      "milk chocolate\n",
      "Tarte tatin\n",
      "Pasta Carbonara\n",
      "Arancini\n",
      "Lasagne\n",
      "Parmigiana \n",
      "Pasta Amatriciana\n",
      "Tiramisu\n",
      "CPU times: user 37.3 ms, sys: 9.96 ms, total: 47.3 ms\n",
      "Wall time: 42.6 ms\n"
     ]
    }
   ],
   "source": [
    "%%time\n",
    "similar = []\n",
    "id_dish = 204332\n",
    "for idx in df_ingredients.index:\n",
    "    similar.append((idx, \n",
    "                    cosine_similarity(df_ingredients.loc[id_dish,:].values.reshape(1, -1), \n",
    "                                      df_ingredients.loc[idx,:].values.reshape(1, -1))[0][0]))\n",
    "similar.sort(key=operator.itemgetter(1), reverse=True)\n",
    "print(f'Dishes similar to: {selected.loc[id_dish, \"original_name\"]}')\n",
    "print()\n",
    "for idx, measure in similar:\n",
    "    print(selected.loc[idx, \"original_name\"])"
   ]
  },
  {
   "cell_type": "code",
   "execution_count": 39,
   "metadata": {},
   "outputs": [
    {
     "name": "stdout",
     "output_type": "stream",
     "text": [
      "(42, 42)\n",
      "CPU times: user 12.4 ms, sys: 30.3 ms, total: 42.7 ms\n",
      "Wall time: 5.16 ms\n"
     ]
    }
   ],
   "source": [
    "%%time\n",
    "msim_ingredients = cosine_similarity(df_ingredients.values, df_ingredients.values)\n",
    "print(msim_ingredients.shape)"
   ]
  },
  {
   "cell_type": "code",
   "execution_count": 40,
   "metadata": {},
   "outputs": [
    {
     "data": {
      "text/plain": [
       "(42, 42)"
      ]
     },
     "execution_count": 40,
     "metadata": {},
     "output_type": "execute_result"
    }
   ],
   "source": [
    "msim_ingredients.shape"
   ]
  },
  {
   "cell_type": "markdown",
   "metadata": {},
   "source": [
    "#### Plotting the similarities Matrix"
   ]
  },
  {
   "cell_type": "code",
   "execution_count": 41,
   "metadata": {},
   "outputs": [
    {
     "data": {
      "image/png": "[encoded data removed]",
      "text/plain": [
       "<Figure size 1152x1152 with 1 Axes>"
      ]
     },
     "metadata": {
      "needs_background": "light"
     },
     "output_type": "display_data"
    }
   ],
   "source": [
    "plt.figure(figsize=(16, 16)) \n",
    "plt.imshow(msim_ingredients, interpolation='none')\n",
    "plt.show()"
   ]
  },
  {
   "cell_type": "markdown",
   "metadata": {},
   "source": [
    "#### Plotting the hierarquical cluster (Dendrogram)"
   ]
  },
  {
   "cell_type": "code",
   "execution_count": 45,
   "metadata": {},
   "outputs": [
    {
     "data": {
      "image/png": "[encoded data removed]",
      "text/plain": [
       "<Figure size 1152x1152 with 1 Axes>"
      ]
     },
     "metadata": {
      "needs_background": "light"
     },
     "output_type": "display_data"
    }
   ],
   "source": [
    "plt.figure(figsize=(16, 16))  \n",
    "plt.title(\"Similarity of countries based on ingredients\")  \n",
    "dend = shc.dendrogram(shc.linkage(df_ingredients, method='ward'), \n",
    "                      orientation='right', \n",
    "                      #labels= selected['original_name'].values)\n",
    "                      labels= selected['nationality'].values)\n",
    "plt.savefig(\"dendogram_country_ingredient.jpg\")"
   ]
  },
  {
   "cell_type": "code",
   "execution_count": 78,
   "metadata": {},
   "outputs": [],
   "source": [
    "G = nx.Graph()\n",
    "for k,v in ingredients.items():\n",
    "    G.add_node(v, idx=k, color='white')\n",
    "    \n",
    "for idx in selected.index:\n",
    "    G.add_node(selected.loc[idx,'original_name'], idx=idx, color='yellow')\n"
   ]
  },
  {
   "cell_type": "code",
   "execution_count": 79,
   "metadata": {},
   "outputs": [
    {
     "data": {
      "text/plain": [
       "{'idx': 2516, 'color': 'white'}"
      ]
     },
     "execution_count": 79,
     "metadata": {},
     "output_type": "execute_result"
    }
   ],
   "source": [
    "#nx.get_node_attributes(G,'id')\n",
    "G.node['eggplant']"
   ]
  },
  {
   "cell_type": "code",
   "execution_count": 81,
   "metadata": {},
   "outputs": [
    {
     "ename": "ModuleNotFoundError",
     "evalue": "No module named 'pygraphviz'",
     "output_type": "error",
     "traceback": [
      "\u001b[0;31m---------------------------------------------------------------------------\u001b[0m",
      "\u001b[0;31mModuleNotFoundError\u001b[0m                       Traceback (most recent call last)",
      "\u001b[0;32m<ipython-input-81-312e321cca50>\u001b[0m in \u001b[0;36m<module>\u001b[0;34m\u001b[0m\n\u001b[1;32m      1\u001b[0m \u001b[0mplt\u001b[0m\u001b[0;34m.\u001b[0m\u001b[0mfigure\u001b[0m\u001b[0;34m(\u001b[0m\u001b[0mfigsize\u001b[0m\u001b[0;34m=\u001b[0m\u001b[0;34m(\u001b[0m\u001b[0;36m16\u001b[0m\u001b[0;34m,\u001b[0m\u001b[0;36m18\u001b[0m\u001b[0;34m)\u001b[0m\u001b[0;34m)\u001b[0m\u001b[0;34m\u001b[0m\u001b[0;34m\u001b[0m\u001b[0m\n\u001b[0;32m----> 2\u001b[0;31m \u001b[0;32mimport\u001b[0m \u001b[0mpygraphviz\u001b[0m\u001b[0;34m\u001b[0m\u001b[0;34m\u001b[0m\u001b[0m\n\u001b[0m\u001b[1;32m      3\u001b[0m \u001b[0;31m#pos = nx.spring_layout(G)\u001b[0m\u001b[0;34m\u001b[0m\u001b[0;34m\u001b[0m\u001b[0;34m\u001b[0m\u001b[0m\n\u001b[1;32m      4\u001b[0m \u001b[0;31m#pos = graphviz_layout(G)\u001b[0m\u001b[0;34m\u001b[0m\u001b[0;34m\u001b[0m\u001b[0;34m\u001b[0m\u001b[0m\n\u001b[1;32m      5\u001b[0m \u001b[0mpos\u001b[0m \u001b[0;34m=\u001b[0m \u001b[0mgraphviz_layout\u001b[0m\u001b[0;34m(\u001b[0m\u001b[0mG\u001b[0m\u001b[0;34m,\u001b[0m \u001b[0mprog\u001b[0m\u001b[0;34m=\u001b[0m\u001b[0;34m'twopi'\u001b[0m\u001b[0;34m,\u001b[0m \u001b[0margs\u001b[0m\u001b[0;34m=\u001b[0m\u001b[0;34m''\u001b[0m\u001b[0;34m)\u001b[0m\u001b[0;34m\u001b[0m\u001b[0;34m\u001b[0m\u001b[0m\n",
      "\u001b[0;31mModuleNotFoundError\u001b[0m: No module named 'pygraphviz'"
     ]
    },
    {
     "data": {
      "text/plain": [
       "<Figure size 1152x1296 with 0 Axes>"
      ]
     },
     "metadata": {},
     "output_type": "display_data"
    }
   ],
   "source": [
    "plt.figure(figsize=(16,18))\n",
    "import pygraphviz\n",
    "#pos = nx.spring_layout(G)\n",
    "#pos = graphviz_layout(G)\n",
    "pos = graphviz_layout(G, prog='twopi', args='')\n",
    "\n",
    "\n",
    "nx.draw_networkx(G, \n",
    "                 pos,\n",
    "                 #width=5,\n",
    "                 alpha=0.9,\n",
    "                 #cmap=plt.get_cmap('viridis'),\n",
    "                 node_color=nx.get_node_attributes(G,'color').values(), \n",
    "                 with_labels=True,\n",
    "                 font_weight='bold', \n",
    "                 #font_color='white',\n",
    "                 )\n",
    "\n",
    "\n",
    "#plt.show()\n",
    "#plt.savefig('./outputs/fragebogen.png', bbox_inches='tight')"
   ]
  },
  {
   "cell_type": "code",
   "execution_count": null,
   "metadata": {},
   "outputs": [],
   "source": [
    "for concept_list in fb_original.headwords_list:\n",
    "    for concept in concept_list:\n",
    "        G.add_node(concept, color='white')\n",
    "        \n",
    "for questionnaire in fb_original.fragebogen_num:\n",
    "    G.add_node(questionnaire, color='yellow')\n",
    "    \n",
    "for idn in fb_original.index:\n",
    "    for concept in fb_original.loc[idn, 'headwords_list']:\n",
    "        G.add_edge(concept, fb_original.loc[idn, 'fragebogen_num'], length = 10)"
   ]
  },
  {
   "cell_type": "markdown",
   "metadata": {},
   "source": [
    "### Finding similar names for recipes\n",
    "#### (input for the search function)"
   ]
  },
  {
   "cell_type": "code",
   "execution_count": 157,
   "metadata": {},
   "outputs": [],
   "source": [
    "class Text_Cleaning_Utilities(object):\n",
    "    \"\"\"Tools for processing text into segments for further learning\"\"\"\n",
    "\n",
    "    @staticmethod\n",
    "    def text_to_wordlist(text, \n",
    "                         remove_stopwords=False, \n",
    "                         remove_non_letters=False, \n",
    "                         steeming=False):\n",
    "        '''Split a text into a list of words'''\n",
    "        #text = text.replace('-\\n','')\n",
    "        text = text.lower()\n",
    "        if remove_non_letters:\n",
    "            text = re.sub(\"[^-A-Za-z0-9_]\", \" \", text)\n",
    "        list_words = word_tokenize(text)\n",
    "        list_words = [w.strip(string.punctuation) for w in list_words if w not in string.punctuation]\n",
    "        list_words = [w for w in list_words if len(w) > 1]\n",
    "        if remove_stopwords:\n",
    "            stops = set(stopwords.words(\"english\"))\n",
    "            list_words = [w for w in list_words if w not in stops]\n",
    "        if steeming:\n",
    "            stemmer = PorterStemmer()\n",
    "            list_words = [stemmer.stem(item) for item in list_words]\n",
    "        return list_words\n",
    "    \n",
    "    @staticmethod\n",
    "    def df_to_list_of_texts(dataframe, column, \n",
    "                            remove_stopwords=False, \n",
    "                            remove_non_letters=False, \n",
    "                            steeming=False):\n",
    "        clean_texts = []\n",
    "        for txt_id in range(len(dataframe[column])):\n",
    "            clean_texts.append(' '.join(Text_Cleaning_Utilities.text_to_wordlist(dataframe[column][txt_id],\n",
    "                                                                                 remove_stopwords=remove_stopwords,\n",
    "                                                                                 remove_non_letters=remove_non_letters,\n",
    "                                                                                 steeming=steeming)))\n",
    "            \n",
    "        return clean_texts\n",
    "\n",
    "    @staticmethod\n",
    "    def df_to_list_of_tokens(dataframe, column, \n",
    "                             remove_stopwords=False, \n",
    "                             remove_non_letters=False, \n",
    "                             steeming=False):\n",
    "        clean_texts = []\n",
    "        for txt_id in range(len(dataframe[column])):\n",
    "            clean_texts.append(Text_Cleaning_Utilities.text_to_wordlist(dataframe[column][txt_id],\n",
    "                                                                        remove_stopwords=remove_stopwords,\n",
    "                                                                        remove_non_letters=remove_non_letters,\n",
    "                                                                        steeming=steeming))\n",
    "            \n",
    "        return clean_texts"
   ]
  },
  {
   "cell_type": "code",
   "execution_count": 159,
   "metadata": {},
   "outputs": [],
   "source": [
    "recipes = Text_Cleaning_Utilities.df_to_list_of_texts(df_selected,\n",
    "                                                      'name',\n",
    "                                                      remove_stopwords=True,)"
   ]
  },
  {
   "cell_type": "code",
   "execution_count": 160,
   "metadata": {},
   "outputs": [
    {
     "data": {
      "text/plain": [
       "['arancini italian rice balls',\n",
       " 'easy fattoush salad',\n",
       " 'alan tandoori chicken',\n",
       " 'mexican tacos al pastor',\n",
       " 'croquetas',\n",
       " 'best pizza margherita',\n",
       " 'acadia ratatouille',\n",
       " 'boneless breast chicken saltimbocca',\n",
       " 'amanda milk chocolate frosting',\n",
       " 'ariana pozole']"
      ]
     },
     "execution_count": 160,
     "metadata": {},
     "output_type": "execute_result"
    }
   ],
   "source": [
    "recipes[0:10]"
   ]
  },
  {
   "cell_type": "code",
   "execution_count": 163,
   "metadata": {},
   "outputs": [],
   "source": [
    "vectorizer_tf = CountVectorizer(input='content', \n",
    "                               encoding='utf-8', \n",
    "                               decode_error='strict', \n",
    "                               strip_accents=None, \n",
    "                               lowercase=True, \n",
    "                               preprocessor=None, \n",
    "                               tokenizer=None, \n",
    "                               stop_words=None, \n",
    "                               #token_pattern='(?u)\\b\\w\\w+\\b',\n",
    "                               ngram_range=(1,1),\n",
    "                               analyzer='word', \n",
    "                               max_df=1.0, \n",
    "                               min_df=1, \n",
    "                               max_features=5000, \n",
    "                               vocabulary=None, \n",
    "                               binary=False, \n",
    "                               dtype=np.int64,\n",
    "                              )\n",
    "\n",
    "vectorizer_tfidf = TfidfVectorizer(input='content',\n",
    "                                  #encoding='utf-8',\n",
    "                                  decode_error='strict',\n",
    "                                  strip_accents=None,\n",
    "                                  lowercase=True,\n",
    "                                  preprocessor=None,\n",
    "                                  tokenizer=None,\n",
    "                                  analyzer='word',\n",
    "                                  stop_words=None,\n",
    "                                  #token_pattern='(?u)\\b\\w\\w+\\b',\n",
    "                                  ngram_range=(1, 1),\n",
    "                                  max_df=1.0,\n",
    "                                  min_df=1,\n",
    "                                  max_features=5000,\n",
    "                                  vocabulary=None, \n",
    "                                  binary=False, \n",
    "                                  dtype=np.int64,\n",
    "                                  norm='l2',\n",
    "                                  use_idf=True,\n",
    "                                  smooth_idf=True,\n",
    "                                  sublinear_tf=True)"
   ]
  },
  {
   "cell_type": "code",
   "execution_count": 164,
   "metadata": {},
   "outputs": [
    {
     "name": "stdout",
     "output_type": "stream",
     "text": [
      "(44, 138)\n"
     ]
    }
   ],
   "source": [
    "recipes_vectors = vectorizer_tf.fit_transform(recipes)\n",
    "recipes_vectors = recipes_vectors.toarray() # Numpy arrays are easy to work with\n",
    "print(recipes_vectors.shape)"
   ]
  },
  {
   "cell_type": "code",
   "execution_count": 166,
   "metadata": {},
   "outputs": [
    {
     "data": {
      "text/plain": [
       "array([0, 0, 0, 0, 0, 0, 0, 0, 0, 0, 0, 0, 0, 0, 0, 1, 0, 0, 0, 0, 0, 0,\n",
       "       1, 0, 0, 0, 0, 0, 0, 0, 0, 0, 0, 0, 0, 0, 0, 0, 0, 0, 0, 0, 0, 0,\n",
       "       0, 0, 0, 0, 0, 0, 0, 0, 0, 0, 0, 0, 0, 0, 0, 0, 0, 0, 0, 0, 0, 0,\n",
       "       0, 0, 0, 0, 0, 1, 0, 0, 0, 0, 0, 0, 0, 0, 0, 0, 0, 0, 0, 0, 0, 0,\n",
       "       0, 0, 0, 0, 0, 0, 0, 0, 0, 0, 0, 0, 0, 0, 0, 0, 0, 0, 1, 0, 0, 0,\n",
       "       0, 0, 0, 0, 0, 0, 0, 0, 0, 0, 0, 0, 0, 0, 0, 0, 0, 0, 0, 0, 0, 0,\n",
       "       0, 0, 0, 0, 0, 0])"
      ]
     },
     "execution_count": 166,
     "metadata": {},
     "output_type": "execute_result"
    }
   ],
   "source": [
    "recipes_vectors[0]"
   ]
  },
  {
   "cell_type": "code",
   "execution_count": 167,
   "metadata": {},
   "outputs": [
    {
     "name": "stdout",
     "output_type": "stream",
     "text": [
      "CPU times: user 1.26 ms, sys: 1.11 ms, total: 2.37 ms\n",
      "Wall time: 1.39 ms\n"
     ]
    }
   ],
   "source": [
    "%%time\n",
    "msim_names = cosine_similarity(recipes_vectors, recipes_vectors)"
   ]
  },
  {
   "cell_type": "code",
   "execution_count": 169,
   "metadata": {},
   "outputs": [
    {
     "data": {
      "text/plain": [
       "(44, 44)"
      ]
     },
     "execution_count": 169,
     "metadata": {},
     "output_type": "execute_result"
    }
   ],
   "source": [
    "msim_names.shape"
   ]
  },
  {
   "cell_type": "markdown",
   "metadata": {},
   "source": [
    "#### Plotting the similarities Matrix"
   ]
  },
  {
   "cell_type": "code",
   "execution_count": 170,
   "metadata": {},
   "outputs": [
    {
     "data": {
      "image/png": "[encoded data removed]",
      "text/plain": [
       "<Figure size 1152x1152 with 1 Axes>"
      ]
     },
     "metadata": {
      "needs_background": "light"
     },
     "output_type": "display_data"
    }
   ],
   "source": [
    "plt.figure(figsize=(16, 16)) \n",
    "plt.imshow(msim_names, interpolation='none')\n",
    "plt.show()"
   ]
  },
  {
   "cell_type": "markdown",
   "metadata": {},
   "source": [
    "#### Plotting the hierarquical cluster (Dendrogram)"
   ]
  },
  {
   "cell_type": "code",
   "execution_count": 171,
   "metadata": {},
   "outputs": [
    {
     "data": {
      "image/png": "[encoded data removed]",
      "text/plain": [
       "<Figure size 1152x1152 with 1 Axes>"
      ]
     },
     "metadata": {
      "needs_background": "light"
     },
     "output_type": "display_data"
    }
   ],
   "source": [
    "import scipy.cluster.hierarchy as shc\n",
    "plt.figure(figsize=(16, 16))  \n",
    "plt.title(\"Dendrograms\")  \n",
    "dend = shc.dendrogram(shc.linkage(msim_names, method='ward'), \n",
    "                      orientation='right', \n",
    "                      labels=df_ingredients.name.values)"
   ]
  },
  {
   "cell_type": "code",
   "execution_count": null,
   "metadata": {},
   "outputs": [],
   "source": []
  }
 ],
 "metadata": {
  "kernelspec": {
   "display_name": "Python 3",
   "language": "python",
   "name": "python3"
  },
  "language_info": {
   "codemirror_mode": {
    "name": "ipython",
    "version": 3
   },
   "file_extension": ".py",
   "mimetype": "text/x-python",
   "name": "python",
   "nbconvert_exporter": "python",
   "pygments_lexer": "ipython3",
   "version": "3.7.3"
  }
 },
 "nbformat": 4,
 "nbformat_minor": 4
}
