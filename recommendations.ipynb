{
 "cells": [
  {
   "cell_type": "markdown",
   "metadata": {},
   "source": [
    "### Loading Packages"
   ]
  },
  {
   "cell_type": "code",
   "execution_count": 1,
   "metadata": {},
   "outputs": [],
   "source": [
    "import os\n",
    "import sys\n",
    "import io\n",
    "import numpy as np\n",
    "import matplotlib.pyplot as plt\n",
    "import pandas as pd\n",
    "import math\n",
    "import string\n",
    "\n",
    "import nltk\n",
    "import nltk.data\n",
    "from nltk.corpus import stopwords\n",
    "from nltk import word_tokenize\n",
    "from nltk.stem.porter import PorterStemmer\n",
    "\n",
    "from sklearn import model_selection\n",
    "from sklearn.feature_extraction.text import CountVectorizer\n",
    "from sklearn.feature_extraction.text import TfidfVectorizer \n",
    "from sklearn.cluster import KMeans\n",
    "from sklearn.metrics import roc_auc_score as AUC\n",
    "from sklearn.metrics.pairwise import cosine_similarity\n",
    "import scipy.spatial.distance as ssd\n",
    "from scipy.cluster.hierarchy import dendrogram, linkage\n",
    "\n",
    "import gensim\n",
    "from gensim import corpora\n",
    "from gensim import models\n",
    "from gensim import similarities\n",
    "from gensim.models import Word2Vec"
   ]
  },
  {
   "cell_type": "markdown",
   "metadata": {},
   "source": [
    "### Importing the saved dataframe"
   ]
  },
  {
   "cell_type": "code",
   "execution_count": 12,
   "metadata": {},
   "outputs": [
    {
     "data": {
      "text/html": [
       "<div>\n",
       "<style scoped>\n",
       "    .dataframe tbody tr th:only-of-type {\n",
       "        vertical-align: middle;\n",
       "    }\n",
       "\n",
       "    .dataframe tbody tr th {\n",
       "        vertical-align: top;\n",
       "    }\n",
       "\n",
       "    .dataframe thead th {\n",
       "        text-align: right;\n",
       "    }\n",
       "</style>\n",
       "<table border=\"1\" class=\"dataframe\">\n",
       "  <thead>\n",
       "    <tr style=\"text-align: right;\">\n",
       "      <th></th>\n",
       "      <th>old_id</th>\n",
       "      <th>name_tokens</th>\n",
       "      <th>ingredient_tokens</th>\n",
       "      <th>steps_tokens</th>\n",
       "      <th>techniques</th>\n",
       "      <th>calorie_level</th>\n",
       "      <th>ingredient_ids</th>\n",
       "      <th>name</th>\n",
       "      <th>minutes</th>\n",
       "      <th>contributor_id</th>\n",
       "      <th>submitted</th>\n",
       "      <th>tags</th>\n",
       "      <th>nutrition</th>\n",
       "      <th>n_steps</th>\n",
       "      <th>steps</th>\n",
       "      <th>description</th>\n",
       "      <th>ingredients</th>\n",
       "      <th>n_ingredients</th>\n",
       "    </tr>\n",
       "    <tr>\n",
       "      <th>id</th>\n",
       "      <th></th>\n",
       "      <th></th>\n",
       "      <th></th>\n",
       "      <th></th>\n",
       "      <th></th>\n",
       "      <th></th>\n",
       "      <th></th>\n",
       "      <th></th>\n",
       "      <th></th>\n",
       "      <th></th>\n",
       "      <th></th>\n",
       "      <th></th>\n",
       "      <th></th>\n",
       "      <th></th>\n",
       "      <th></th>\n",
       "      <th></th>\n",
       "      <th></th>\n",
       "      <th></th>\n",
       "    </tr>\n",
       "  </thead>\n",
       "  <tbody>\n",
       "    <tr>\n",
       "      <td>424415</td>\n",
       "      <td>23</td>\n",
       "      <td>[40480, 37229, 2911, 1019, 249, 6878, 6878, 28...</td>\n",
       "      <td>[[2911, 1019, 249, 6878], [1353], [6953], [153...</td>\n",
       "      <td>[40480, 40482, 21662, 481, 6878, 500, 246, 161...</td>\n",
       "      <td>[0, 0, 0, 0, 0, 0, 0, 0, 0, 1, 0, 0, 0, 0, 0, ...</td>\n",
       "      <td>0</td>\n",
       "      <td>[389, 7655, 6270, 1527, 3406]</td>\n",
       "      <td>aromatic basmati rice  rice cooker</td>\n",
       "      <td>61</td>\n",
       "      <td>496803</td>\n",
       "      <td>2010-05-10</td>\n",
       "      <td>[weeknight, time-to-make, course, main-ingredi...</td>\n",
       "      <td>[228.2, 2.0, 2.0, 8.0, 9.0, 1.0, 15.0]</td>\n",
       "      <td>6</td>\n",
       "      <td>[rinse the rice in a fine strainer , then drai...</td>\n",
       "      <td>from the ultimate rice cooker cookbook.  the a...</td>\n",
       "      <td>[basmati rice, water, salt, cinnamon stick, gr...</td>\n",
       "      <td>5</td>\n",
       "    </tr>\n",
       "    <tr>\n",
       "      <td>146223</td>\n",
       "      <td>96900</td>\n",
       "      <td>[40480, 18376, 7056, 246, 1531, 2032, 40481]</td>\n",
       "      <td>[[17918], [25916], [2507, 6444], [8467, 1179],...</td>\n",
       "      <td>[40480, 40482, 729, 2525, 10906, 485, 43, 8393...</td>\n",
       "      <td>[1, 0, 0, 0, 0, 0, 0, 0, 0, 1, 0, 0, 0, 0, 0, ...</td>\n",
       "      <td>0</td>\n",
       "      <td>[2683, 4969, 800, 5298, 840, 2499, 6632, 7022,...</td>\n",
       "      <td>pumpkin pie a la easy</td>\n",
       "      <td>55</td>\n",
       "      <td>229619</td>\n",
       "      <td>2005-11-25</td>\n",
       "      <td>[60-minutes-or-less, time-to-make, course, pre...</td>\n",
       "      <td>[249.4, 16.0, 92.0, 8.0, 11.0, 27.0, 11.0]</td>\n",
       "      <td>10</td>\n",
       "      <td>[preheat oven to 350, combine flour , oats , b...</td>\n",
       "      <td>this is a pampered chef recipe for their stone...</td>\n",
       "      <td>[flour, oats, brown sugar, pecans, butter, egg...</td>\n",
       "      <td>12</td>\n",
       "    </tr>\n",
       "    <tr>\n",
       "      <td>312329</td>\n",
       "      <td>120056</td>\n",
       "      <td>[40480, 21044, 16954, 8294, 556, 10837, 40481]</td>\n",
       "      <td>[[5867, 24176], [1353], [6953], [1301, 11332],...</td>\n",
       "      <td>[40480, 40482, 8240, 481, 24176, 296, 1353, 66...</td>\n",
       "      <td>[0, 0, 0, 0, 1, 0, 0, 0, 0, 0, 0, 1, 0, 0, 0, ...</td>\n",
       "      <td>1</td>\n",
       "      <td>[1257, 7655, 6270, 590, 5024, 1119, 4883, 6696...</td>\n",
       "      <td>cheesy tomato soup with potatoes</td>\n",
       "      <td>25</td>\n",
       "      <td>621626</td>\n",
       "      <td>2008-07-07</td>\n",
       "      <td>[30-minutes-or-less, time-to-make, course, mai...</td>\n",
       "      <td>[351.3, 34.0, 15.0, 50.0, 25.0, 70.0, 8.0]</td>\n",
       "      <td>6</td>\n",
       "      <td>[pour the broth &amp; water into a large pot, add ...</td>\n",
       "      <td>after modifying another recipe i came up with ...</td>\n",
       "      <td>[chicken broth, water, salt, black pepper, oni...</td>\n",
       "      <td>15</td>\n",
       "    </tr>\n",
       "    <tr>\n",
       "      <td>74301</td>\n",
       "      <td>168258</td>\n",
       "      <td>[40480, 10025, 31156, 40481]</td>\n",
       "      <td>[[1270, 1645, 28447], [21601], [27952, 29471, ...</td>\n",
       "      <td>[40480, 40482, 5539, 21601, 1073, 903, 2324, 4...</td>\n",
       "      <td>[1, 0, 0, 0, 0, 0, 0, 0, 0, 0, 0, 0, 0, 0, 0, ...</td>\n",
       "      <td>0</td>\n",
       "      <td>[7940, 3609, 7060, 6265, 1170, 6654, 5003, 3561]</td>\n",
       "      <td>mini tacos</td>\n",
       "      <td>15</td>\n",
       "      <td>60989</td>\n",
       "      <td>2003-10-29</td>\n",
       "      <td>[15-minutes-or-less, time-to-make, course, mai...</td>\n",
       "      <td>[79.7, 5.0, 2.0, 11.0, 11.0, 7.0, 2.0]</td>\n",
       "      <td>8</td>\n",
       "      <td>[cook hamburger until browned, drain the fat a...</td>\n",
       "      <td>these can be a easy appetizer or a light dinne...</td>\n",
       "      <td>[wonton wrappers, hamburger, taco seasoning, s...</td>\n",
       "      <td>8</td>\n",
       "    </tr>\n",
       "    <tr>\n",
       "      <td>76272</td>\n",
       "      <td>109030</td>\n",
       "      <td>[40480, 17841, 252, 782, 2373, 1641, 2373, 252...</td>\n",
       "      <td>[[1430, 11434], [1430, 17027], [1615, 23, 695,...</td>\n",
       "      <td>[40480, 40482, 14046, 1430, 11434, 488, 17027,...</td>\n",
       "      <td>[0, 0, 0, 0, 0, 0, 0, 0, 0, 1, 0, 0, 0, 0, 0, ...</td>\n",
       "      <td>0</td>\n",
       "      <td>[3484, 6324, 7594, 243]</td>\n",
       "      <td>rosemary s hanky panky s</td>\n",
       "      <td>20</td>\n",
       "      <td>93444</td>\n",
       "      <td>2003-11-12</td>\n",
       "      <td>[30-minutes-or-less, time-to-make, course, pre...</td>\n",
       "      <td>[240.7, 29.0, 9.0, 28.0, 27.0, 42.0, 0.0]</td>\n",
       "      <td>5</td>\n",
       "      <td>[fry ground beef and sausage until browned, dr...</td>\n",
       "      <td>my girlfriend rosemary gave me this wonderfull...</td>\n",
       "      <td>[ground beef, ground sausage, velveeta cheese,...</td>\n",
       "      <td>4</td>\n",
       "    </tr>\n",
       "  </tbody>\n",
       "</table>\n",
       "</div>"
      ],
      "text/plain": [
       "        old_id                                        name_tokens  \\\n",
       "id                                                                  \n",
       "424415      23  [40480, 37229, 2911, 1019, 249, 6878, 6878, 28...   \n",
       "146223   96900       [40480, 18376, 7056, 246, 1531, 2032, 40481]   \n",
       "312329  120056     [40480, 21044, 16954, 8294, 556, 10837, 40481]   \n",
       "74301   168258                       [40480, 10025, 31156, 40481]   \n",
       "76272   109030  [40480, 17841, 252, 782, 2373, 1641, 2373, 252...   \n",
       "\n",
       "                                        ingredient_tokens  \\\n",
       "id                                                          \n",
       "424415  [[2911, 1019, 249, 6878], [1353], [6953], [153...   \n",
       "146223  [[17918], [25916], [2507, 6444], [8467, 1179],...   \n",
       "312329  [[5867, 24176], [1353], [6953], [1301, 11332],...   \n",
       "74301   [[1270, 1645, 28447], [21601], [27952, 29471, ...   \n",
       "76272   [[1430, 11434], [1430, 17027], [1615, 23, 695,...   \n",
       "\n",
       "                                             steps_tokens  \\\n",
       "id                                                          \n",
       "424415  [40480, 40482, 21662, 481, 6878, 500, 246, 161...   \n",
       "146223  [40480, 40482, 729, 2525, 10906, 485, 43, 8393...   \n",
       "312329  [40480, 40482, 8240, 481, 24176, 296, 1353, 66...   \n",
       "74301   [40480, 40482, 5539, 21601, 1073, 903, 2324, 4...   \n",
       "76272   [40480, 40482, 14046, 1430, 11434, 488, 17027,...   \n",
       "\n",
       "                                               techniques  calorie_level  \\\n",
       "id                                                                         \n",
       "424415  [0, 0, 0, 0, 0, 0, 0, 0, 0, 1, 0, 0, 0, 0, 0, ...              0   \n",
       "146223  [1, 0, 0, 0, 0, 0, 0, 0, 0, 1, 0, 0, 0, 0, 0, ...              0   \n",
       "312329  [0, 0, 0, 0, 1, 0, 0, 0, 0, 0, 0, 1, 0, 0, 0, ...              1   \n",
       "74301   [1, 0, 0, 0, 0, 0, 0, 0, 0, 0, 0, 0, 0, 0, 0, ...              0   \n",
       "76272   [0, 0, 0, 0, 0, 0, 0, 0, 0, 1, 0, 0, 0, 0, 0, ...              0   \n",
       "\n",
       "                                           ingredient_ids  \\\n",
       "id                                                          \n",
       "424415                      [389, 7655, 6270, 1527, 3406]   \n",
       "146223  [2683, 4969, 800, 5298, 840, 2499, 6632, 7022,...   \n",
       "312329  [1257, 7655, 6270, 590, 5024, 1119, 4883, 6696...   \n",
       "74301    [7940, 3609, 7060, 6265, 1170, 6654, 5003, 3561]   \n",
       "76272                             [3484, 6324, 7594, 243]   \n",
       "\n",
       "                                      name  minutes  contributor_id  \\\n",
       "id                                                                    \n",
       "424415  aromatic basmati rice  rice cooker       61          496803   \n",
       "146223               pumpkin pie a la easy       55          229619   \n",
       "312329    cheesy tomato soup with potatoes       25          621626   \n",
       "74301                           mini tacos       15           60989   \n",
       "76272             rosemary s hanky panky s       20           93444   \n",
       "\n",
       "         submitted                                               tags  \\\n",
       "id                                                                      \n",
       "424415  2010-05-10  [weeknight, time-to-make, course, main-ingredi...   \n",
       "146223  2005-11-25  [60-minutes-or-less, time-to-make, course, pre...   \n",
       "312329  2008-07-07  [30-minutes-or-less, time-to-make, course, mai...   \n",
       "74301   2003-10-29  [15-minutes-or-less, time-to-make, course, mai...   \n",
       "76272   2003-11-12  [30-minutes-or-less, time-to-make, course, pre...   \n",
       "\n",
       "                                         nutrition  n_steps  \\\n",
       "id                                                            \n",
       "424415      [228.2, 2.0, 2.0, 8.0, 9.0, 1.0, 15.0]        6   \n",
       "146223  [249.4, 16.0, 92.0, 8.0, 11.0, 27.0, 11.0]       10   \n",
       "312329  [351.3, 34.0, 15.0, 50.0, 25.0, 70.0, 8.0]        6   \n",
       "74301       [79.7, 5.0, 2.0, 11.0, 11.0, 7.0, 2.0]        8   \n",
       "76272    [240.7, 29.0, 9.0, 28.0, 27.0, 42.0, 0.0]        5   \n",
       "\n",
       "                                                    steps  \\\n",
       "id                                                          \n",
       "424415  [rinse the rice in a fine strainer , then drai...   \n",
       "146223  [preheat oven to 350, combine flour , oats , b...   \n",
       "312329  [pour the broth & water into a large pot, add ...   \n",
       "74301   [cook hamburger until browned, drain the fat a...   \n",
       "76272   [fry ground beef and sausage until browned, dr...   \n",
       "\n",
       "                                              description  \\\n",
       "id                                                          \n",
       "424415  from the ultimate rice cooker cookbook.  the a...   \n",
       "146223  this is a pampered chef recipe for their stone...   \n",
       "312329  after modifying another recipe i came up with ...   \n",
       "74301   these can be a easy appetizer or a light dinne...   \n",
       "76272   my girlfriend rosemary gave me this wonderfull...   \n",
       "\n",
       "                                              ingredients  n_ingredients  \n",
       "id                                                                        \n",
       "424415  [basmati rice, water, salt, cinnamon stick, gr...              5  \n",
       "146223  [flour, oats, brown sugar, pecans, butter, egg...             12  \n",
       "312329  [chicken broth, water, salt, black pepper, oni...             15  \n",
       "74301   [wonton wrappers, hamburger, taco seasoning, s...              8  \n",
       "76272   [ground beef, ground sausage, velveeta cheese,...              4  "
      ]
     },
     "execution_count": 12,
     "metadata": {},
     "output_type": "execute_result"
    }
   ],
   "source": [
    "df_recipes = pd.read_pickle('./basic_features.pkl.bz2')\n",
    "df_recipes.head()"
   ]
  },
  {
   "cell_type": "code",
   "execution_count": 16,
   "metadata": {},
   "outputs": [
    {
     "name": "stdout",
     "output_type": "stream",
     "text": [
      "<class 'pandas.core.frame.DataFrame'>\n",
      "Int64Index: 178265 entries, 424415 to 263840\n",
      "Data columns (total 18 columns):\n",
      "old_id               178265 non-null int64\n",
      "name_tokens          178265 non-null object\n",
      "ingredient_tokens    178265 non-null object\n",
      "steps_tokens         178265 non-null object\n",
      "techniques           178265 non-null object\n",
      "calorie_level        178265 non-null int64\n",
      "ingredient_ids       178265 non-null object\n",
      "name                 178265 non-null object\n",
      "minutes              178265 non-null int64\n",
      "contributor_id       178265 non-null int64\n",
      "submitted            178265 non-null object\n",
      "tags                 178265 non-null object\n",
      "nutrition            178265 non-null object\n",
      "n_steps              178265 non-null int64\n",
      "steps                178265 non-null object\n",
      "description          174311 non-null object\n",
      "ingredients          178265 non-null object\n",
      "n_ingredients        178265 non-null int64\n",
      "dtypes: int64(6), object(12)\n",
      "memory usage: 25.8+ MB\n"
     ]
    }
   ],
   "source": [
    "df_recipes.info()"
   ]
  },
  {
   "cell_type": "code",
   "execution_count": 17,
   "metadata": {},
   "outputs": [
    {
     "data": {
      "text/plain": [
       "['basmati rice', 'water', 'salt', 'cinnamon stick', 'green cardamom pods']"
      ]
     },
     "execution_count": 17,
     "metadata": {},
     "output_type": "execute_result"
    }
   ],
   "source": [
    "df_recipes['ingredients'].iloc[0]"
   ]
  },
  {
   "cell_type": "code",
   "execution_count": 18,
   "metadata": {},
   "outputs": [
    {
     "data": {
      "text/plain": [
       "[389, 7655, 6270, 1527, 3406]"
      ]
     },
     "execution_count": 18,
     "metadata": {},
     "output_type": "execute_result"
    }
   ],
   "source": [
    "df_recipes['ingredient_ids'].iloc[0]"
   ]
  },
  {
   "cell_type": "markdown",
   "metadata": {},
   "source": [
    "### Using the selected recipes"
   ]
  },
  {
   "cell_type": "code",
   "execution_count": 19,
   "metadata": {},
   "outputs": [],
   "source": [
    "selected = pd.read_csv(\"./selected_recipes.csv\")\n",
    "selected.set_index([\"id_recipe\"], drop=True, inplace=True)\n",
    "selected.drop(['Unnamed: 0'], axis=1, inplace=True)"
   ]
  },
  {
   "cell_type": "code",
   "execution_count": 20,
   "metadata": {},
   "outputs": [
    {
     "data": {
      "text/html": [
       "<div>\n",
       "<style scoped>\n",
       "    .dataframe tbody tr th:only-of-type {\n",
       "        vertical-align: middle;\n",
       "    }\n",
       "\n",
       "    .dataframe tbody tr th {\n",
       "        vertical-align: top;\n",
       "    }\n",
       "\n",
       "    .dataframe thead th {\n",
       "        text-align: right;\n",
       "    }\n",
       "</style>\n",
       "<table border=\"1\" class=\"dataframe\">\n",
       "  <thead>\n",
       "    <tr style=\"text-align: right;\">\n",
       "      <th></th>\n",
       "      <th>image</th>\n",
       "      <th>nationality</th>\n",
       "      <th>rating</th>\n",
       "      <th>calories</th>\n",
       "      <th>total fat</th>\n",
       "      <th>sugar</th>\n",
       "      <th>sodium</th>\n",
       "      <th>protein</th>\n",
       "      <th>saturated fat</th>\n",
       "      <th>carbohydrates</th>\n",
       "      <th>minutes</th>\n",
       "      <th>original_name</th>\n",
       "    </tr>\n",
       "    <tr>\n",
       "      <th>id_recipe</th>\n",
       "      <th></th>\n",
       "      <th></th>\n",
       "      <th></th>\n",
       "      <th></th>\n",
       "      <th></th>\n",
       "      <th></th>\n",
       "      <th></th>\n",
       "      <th></th>\n",
       "      <th></th>\n",
       "      <th></th>\n",
       "      <th></th>\n",
       "      <th></th>\n",
       "    </tr>\n",
       "  </thead>\n",
       "  <tbody>\n",
       "    <tr>\n",
       "      <td>91809</td>\n",
       "      <td>https://c0qzv5k3rl-flywheel.netdna-ssl.com/wp-...</td>\n",
       "      <td>Iranian</td>\n",
       "      <td>-1.0</td>\n",
       "      <td>432.9</td>\n",
       "      <td>62.0</td>\n",
       "      <td>27.0</td>\n",
       "      <td>48.0</td>\n",
       "      <td>15.0</td>\n",
       "      <td>21.0</td>\n",
       "      <td>5.0</td>\n",
       "      <td>75</td>\n",
       "      <td>Fesenjan</td>\n",
       "    </tr>\n",
       "    <tr>\n",
       "      <td>263437</td>\n",
       "      <td>https://www.196flavors.com/wp-content/uploads/...</td>\n",
       "      <td>Iranian</td>\n",
       "      <td>5.0</td>\n",
       "      <td>352.2</td>\n",
       "      <td>18.0</td>\n",
       "      <td>110.0</td>\n",
       "      <td>20.0</td>\n",
       "      <td>43.0</td>\n",
       "      <td>24.0</td>\n",
       "      <td>14.0</td>\n",
       "      <td>90</td>\n",
       "      <td>Bademjan</td>\n",
       "    </tr>\n",
       "    <tr>\n",
       "      <td>427705</td>\n",
       "      <td>https://toriavey.com/images/2012/01/Baghali-Po...</td>\n",
       "      <td>Iranian</td>\n",
       "      <td>-1.0</td>\n",
       "      <td>484.6</td>\n",
       "      <td>15.0</td>\n",
       "      <td>8.0</td>\n",
       "      <td>2.0</td>\n",
       "      <td>24.0</td>\n",
       "      <td>6.0</td>\n",
       "      <td>28.0</td>\n",
       "      <td>90</td>\n",
       "      <td>Baghali Polo</td>\n",
       "    </tr>\n",
       "    <tr>\n",
       "      <td>448277</td>\n",
       "      <td>https://i.pinimg.com/originals/ff/b6/35/ffb635...</td>\n",
       "      <td>Iranian</td>\n",
       "      <td>-1.0</td>\n",
       "      <td>666.5</td>\n",
       "      <td>45.0</td>\n",
       "      <td>62.0</td>\n",
       "      <td>10.0</td>\n",
       "      <td>13.0</td>\n",
       "      <td>91.0</td>\n",
       "      <td>31.0</td>\n",
       "      <td>130</td>\n",
       "      <td>Zereshk Polo</td>\n",
       "    </tr>\n",
       "    <tr>\n",
       "      <td>425696</td>\n",
       "      <td>http://www.anupskitchen.com/wp-content/uploads...</td>\n",
       "      <td>Iranian</td>\n",
       "      <td>4.0</td>\n",
       "      <td>280.5</td>\n",
       "      <td>12.0</td>\n",
       "      <td>9.0</td>\n",
       "      <td>19.0</td>\n",
       "      <td>64.0</td>\n",
       "      <td>16.0</td>\n",
       "      <td>6.0</td>\n",
       "      <td>105</td>\n",
       "      <td>Gormeh Sabzi</td>\n",
       "    </tr>\n",
       "  </tbody>\n",
       "</table>\n",
       "</div>"
      ],
      "text/plain": [
       "                                                       image nationality  \\\n",
       "id_recipe                                                                  \n",
       "91809      https://c0qzv5k3rl-flywheel.netdna-ssl.com/wp-...     Iranian   \n",
       "263437     https://www.196flavors.com/wp-content/uploads/...     Iranian   \n",
       "427705     https://toriavey.com/images/2012/01/Baghali-Po...     Iranian   \n",
       "448277     https://i.pinimg.com/originals/ff/b6/35/ffb635...     Iranian   \n",
       "425696     http://www.anupskitchen.com/wp-content/uploads...     Iranian   \n",
       "\n",
       "           rating  calories  total fat  sugar  sodium  protein  saturated fat  \\\n",
       "id_recipe                                                                       \n",
       "91809        -1.0     432.9       62.0   27.0    48.0     15.0           21.0   \n",
       "263437        5.0     352.2       18.0  110.0    20.0     43.0           24.0   \n",
       "427705       -1.0     484.6       15.0    8.0     2.0     24.0            6.0   \n",
       "448277       -1.0     666.5       45.0   62.0    10.0     13.0           91.0   \n",
       "425696        4.0     280.5       12.0    9.0    19.0     64.0           16.0   \n",
       "\n",
       "           carbohydrates  minutes  original_name  \n",
       "id_recipe                                         \n",
       "91809                5.0       75       Fesenjan  \n",
       "263437              14.0       90       Bademjan  \n",
       "427705              28.0       90  Baghali Polo   \n",
       "448277              31.0      130   Zereshk Polo  \n",
       "425696               6.0      105   Gormeh Sabzi  "
      ]
     },
     "execution_count": 20,
     "metadata": {},
     "output_type": "execute_result"
    }
   ],
   "source": [
    "selected.head()"
   ]
  },
  {
   "cell_type": "code",
   "execution_count": 21,
   "metadata": {},
   "outputs": [],
   "source": [
    "selected = selected.merge(df_recipes, left_index=True, right_index=True)"
   ]
  },
  {
   "cell_type": "code",
   "execution_count": 22,
   "metadata": {},
   "outputs": [
    {
     "name": "stdout",
     "output_type": "stream",
     "text": [
      "<class 'pandas.core.frame.DataFrame'>\n",
      "Int64Index: 42 entries, 263437 to 424874\n",
      "Data columns (total 30 columns):\n",
      "image                42 non-null object\n",
      "nationality          42 non-null object\n",
      "rating               42 non-null float64\n",
      "calories             42 non-null float64\n",
      "total fat            42 non-null float64\n",
      "sugar                42 non-null float64\n",
      "sodium               42 non-null float64\n",
      "protein              42 non-null float64\n",
      "saturated fat        42 non-null float64\n",
      "carbohydrates        42 non-null float64\n",
      "minutes_x            42 non-null int64\n",
      "original_name        42 non-null object\n",
      "old_id               42 non-null int64\n",
      "name_tokens          42 non-null object\n",
      "ingredient_tokens    42 non-null object\n",
      "steps_tokens         42 non-null object\n",
      "techniques           42 non-null object\n",
      "calorie_level        42 non-null int64\n",
      "ingredient_ids       42 non-null object\n",
      "name                 42 non-null object\n",
      "minutes_y            42 non-null int64\n",
      "contributor_id       42 non-null int64\n",
      "submitted            42 non-null object\n",
      "tags                 42 non-null object\n",
      "nutrition            42 non-null object\n",
      "n_steps              42 non-null int64\n",
      "steps                42 non-null object\n",
      "description          42 non-null object\n",
      "ingredients          42 non-null object\n",
      "n_ingredients        42 non-null int64\n",
      "dtypes: float64(8), int64(7), object(15)\n",
      "memory usage: 10.2+ KB\n"
     ]
    }
   ],
   "source": [
    "selected.info()"
   ]
  },
  {
   "cell_type": "markdown",
   "metadata": {},
   "source": [
    "### Creating the vectors for calculating similarities"
   ]
  },
  {
   "cell_type": "code",
   "execution_count": 23,
   "metadata": {},
   "outputs": [
    {
     "ename": "NameError",
     "evalue": "name 'idx' is not defined",
     "output_type": "error",
     "traceback": [
      "\u001b[0;31m---------------------------------------------------------------------------\u001b[0m",
      "\u001b[0;31mNameError\u001b[0m                                 Traceback (most recent call last)",
      "\u001b[0;32m<ipython-input-23-fe810173e29c>\u001b[0m in \u001b[0;36m<module>\u001b[0;34m\u001b[0m\n\u001b[0;32m----> 1\u001b[0;31m \u001b[0mselected\u001b[0m\u001b[0;34m.\u001b[0m\u001b[0mloc\u001b[0m\u001b[0;34m[\u001b[0m\u001b[0midx\u001b[0m\u001b[0;34m,\u001b[0m \u001b[0;34m\"ingredient_ids\"\u001b[0m\u001b[0;34m]\u001b[0m\u001b[0;34m\u001b[0m\u001b[0;34m\u001b[0m\u001b[0m\n\u001b[0m",
      "\u001b[0;31mNameError\u001b[0m: name 'idx' is not defined"
     ]
    }
   ],
   "source": [
    "selected.loc[idx, \"ingredient_ids\"]"
   ]
  },
  {
   "cell_type": "code",
   "execution_count": 26,
   "metadata": {},
   "outputs": [
    {
     "ename": "TypeError",
     "evalue": "zip argument #1 must support iteration",
     "output_type": "error",
     "traceback": [
      "\u001b[0;31m---------------------------------------------------------------------------\u001b[0m",
      "\u001b[0;31mTypeError\u001b[0m                                 Traceback (most recent call last)",
      "\u001b[0;32m<ipython-input-26-335ded0eba00>\u001b[0m in \u001b[0;36m<module>\u001b[0;34m\u001b[0m\n\u001b[1;32m      1\u001b[0m \u001b[0mingredients\u001b[0m \u001b[0;34m=\u001b[0m \u001b[0;34m{\u001b[0m\u001b[0;34m}\u001b[0m\u001b[0;34m\u001b[0m\u001b[0;34m\u001b[0m\u001b[0m\n\u001b[1;32m      2\u001b[0m \u001b[0;32mfor\u001b[0m \u001b[0midx\u001b[0m \u001b[0;32min\u001b[0m \u001b[0mselected\u001b[0m\u001b[0;34m.\u001b[0m\u001b[0mindex\u001b[0m\u001b[0;34m:\u001b[0m\u001b[0;34m\u001b[0m\u001b[0;34m\u001b[0m\u001b[0m\n\u001b[0;32m----> 3\u001b[0;31m     \u001b[0mtemp\u001b[0m \u001b[0;34m=\u001b[0m \u001b[0mdict\u001b[0m\u001b[0;34m(\u001b[0m\u001b[0mzip\u001b[0m\u001b[0;34m(\u001b[0m\u001b[0mselected\u001b[0m\u001b[0;34m.\u001b[0m\u001b[0mloc\u001b[0m\u001b[0;34m[\u001b[0m\u001b[0midx\u001b[0m\u001b[0;34m,\u001b[0m \u001b[0;34m\"ingredient_ids\"\u001b[0m\u001b[0;34m]\u001b[0m\u001b[0;34m,\u001b[0m\u001b[0mselected\u001b[0m\u001b[0;34m.\u001b[0m\u001b[0mloc\u001b[0m\u001b[0;34m[\u001b[0m\u001b[0midx\u001b[0m\u001b[0;34m,\u001b[0m \u001b[0;34m\"ingredients\"\u001b[0m\u001b[0;34m]\u001b[0m\u001b[0;34m)\u001b[0m\u001b[0;34m)\u001b[0m\u001b[0;34m\u001b[0m\u001b[0;34m\u001b[0m\u001b[0m\n\u001b[0m\u001b[1;32m      4\u001b[0m     \u001b[0mingredients\u001b[0m\u001b[0;34m.\u001b[0m\u001b[0mupdate\u001b[0m\u001b[0;34m(\u001b[0m\u001b[0mtemp\u001b[0m\u001b[0;34m)\u001b[0m\u001b[0;34m\u001b[0m\u001b[0;34m\u001b[0m\u001b[0m\n",
      "\u001b[0;31mTypeError\u001b[0m: zip argument #1 must support iteration"
     ]
    }
   ],
   "source": [
    "ingredients = {}\n",
    "for idx in selected.index:\n",
    "    temp = dict(zip(selected.loc[idx, \"ingredient_ids\"],selected.loc[idx, \"ingredients\"]))\n",
    "    ingredients.update(temp)"
   ]
  },
  {
   "cell_type": "code",
   "execution_count": 116,
   "metadata": {},
   "outputs": [],
   "source": [
    "ingredients_matrix = np.zeros((len(df_selected),max(ingredients)+1), dtype=np.int8, order='C')"
   ]
  },
  {
   "cell_type": "code",
   "execution_count": 117,
   "metadata": {},
   "outputs": [
    {
     "data": {
      "text/plain": [
       "(44, 8022)"
      ]
     },
     "execution_count": 117,
     "metadata": {},
     "output_type": "execute_result"
    }
   ],
   "source": [
    "ingredients_matrix.shape"
   ]
  },
  {
   "cell_type": "code",
   "execution_count": 118,
   "metadata": {},
   "outputs": [],
   "source": [
    "for idx in df_selected.index:\n",
    "    for ing in df_selected.loc[idx,\"ingredient_ids\"]:\n",
    "        ingredients_matrix[idx,ing] = 1"
   ]
  },
  {
   "cell_type": "code",
   "execution_count": 119,
   "metadata": {},
   "outputs": [
    {
     "data": {
      "text/plain": [
       "422"
      ]
     },
     "execution_count": 119,
     "metadata": {},
     "output_type": "execute_result"
    }
   ],
   "source": [
    "len(ingredients_matrix[ingredients_matrix > 0])"
   ]
  },
  {
   "cell_type": "markdown",
   "metadata": {},
   "source": [
    "#### Creating the dish x ingredient matrix"
   ]
  },
  {
   "cell_type": "code",
   "execution_count": 121,
   "metadata": {},
   "outputs": [
    {
     "data": {
      "text/html": [
       "<div>\n",
       "<style scoped>\n",
       "    .dataframe tbody tr th:only-of-type {\n",
       "        vertical-align: middle;\n",
       "    }\n",
       "\n",
       "    .dataframe tbody tr th {\n",
       "        vertical-align: top;\n",
       "    }\n",
       "\n",
       "    .dataframe thead th {\n",
       "        text-align: right;\n",
       "    }\n",
       "</style>\n",
       "<table border=\"1\" class=\"dataframe\">\n",
       "  <thead>\n",
       "    <tr style=\"text-align: right;\">\n",
       "      <th></th>\n",
       "      <th>name</th>\n",
       "      <th>0</th>\n",
       "      <th>1</th>\n",
       "      <th>2</th>\n",
       "      <th>3</th>\n",
       "      <th>4</th>\n",
       "      <th>5</th>\n",
       "      <th>6</th>\n",
       "      <th>7</th>\n",
       "      <th>8</th>\n",
       "      <th>...</th>\n",
       "      <th>8012</th>\n",
       "      <th>8013</th>\n",
       "      <th>8014</th>\n",
       "      <th>8015</th>\n",
       "      <th>8016</th>\n",
       "      <th>8017</th>\n",
       "      <th>8018</th>\n",
       "      <th>8019</th>\n",
       "      <th>8020</th>\n",
       "      <th>8021</th>\n",
       "    </tr>\n",
       "  </thead>\n",
       "  <tbody>\n",
       "    <tr>\n",
       "      <td>0</td>\n",
       "      <td>arancini   italian rice balls</td>\n",
       "      <td>0</td>\n",
       "      <td>0</td>\n",
       "      <td>0</td>\n",
       "      <td>0</td>\n",
       "      <td>0</td>\n",
       "      <td>0</td>\n",
       "      <td>0</td>\n",
       "      <td>0</td>\n",
       "      <td>0</td>\n",
       "      <td>...</td>\n",
       "      <td>0</td>\n",
       "      <td>0</td>\n",
       "      <td>0</td>\n",
       "      <td>0</td>\n",
       "      <td>0</td>\n",
       "      <td>0</td>\n",
       "      <td>0</td>\n",
       "      <td>0</td>\n",
       "      <td>0</td>\n",
       "      <td>0</td>\n",
       "    </tr>\n",
       "    <tr>\n",
       "      <td>1</td>\n",
       "      <td>easy fattoush salad</td>\n",
       "      <td>0</td>\n",
       "      <td>0</td>\n",
       "      <td>0</td>\n",
       "      <td>0</td>\n",
       "      <td>0</td>\n",
       "      <td>0</td>\n",
       "      <td>0</td>\n",
       "      <td>0</td>\n",
       "      <td>0</td>\n",
       "      <td>...</td>\n",
       "      <td>0</td>\n",
       "      <td>0</td>\n",
       "      <td>0</td>\n",
       "      <td>0</td>\n",
       "      <td>0</td>\n",
       "      <td>0</td>\n",
       "      <td>0</td>\n",
       "      <td>0</td>\n",
       "      <td>0</td>\n",
       "      <td>0</td>\n",
       "    </tr>\n",
       "    <tr>\n",
       "      <td>2</td>\n",
       "      <td>alan s tandoori chicken</td>\n",
       "      <td>0</td>\n",
       "      <td>0</td>\n",
       "      <td>0</td>\n",
       "      <td>0</td>\n",
       "      <td>0</td>\n",
       "      <td>0</td>\n",
       "      <td>0</td>\n",
       "      <td>0</td>\n",
       "      <td>0</td>\n",
       "      <td>...</td>\n",
       "      <td>0</td>\n",
       "      <td>0</td>\n",
       "      <td>0</td>\n",
       "      <td>0</td>\n",
       "      <td>0</td>\n",
       "      <td>0</td>\n",
       "      <td>0</td>\n",
       "      <td>0</td>\n",
       "      <td>0</td>\n",
       "      <td>0</td>\n",
       "    </tr>\n",
       "    <tr>\n",
       "      <td>3</td>\n",
       "      <td>mexican tacos al pastor</td>\n",
       "      <td>0</td>\n",
       "      <td>0</td>\n",
       "      <td>0</td>\n",
       "      <td>0</td>\n",
       "      <td>0</td>\n",
       "      <td>0</td>\n",
       "      <td>0</td>\n",
       "      <td>0</td>\n",
       "      <td>0</td>\n",
       "      <td>...</td>\n",
       "      <td>0</td>\n",
       "      <td>0</td>\n",
       "      <td>0</td>\n",
       "      <td>0</td>\n",
       "      <td>0</td>\n",
       "      <td>0</td>\n",
       "      <td>0</td>\n",
       "      <td>0</td>\n",
       "      <td>0</td>\n",
       "      <td>0</td>\n",
       "    </tr>\n",
       "    <tr>\n",
       "      <td>4</td>\n",
       "      <td>croquetas</td>\n",
       "      <td>0</td>\n",
       "      <td>0</td>\n",
       "      <td>0</td>\n",
       "      <td>0</td>\n",
       "      <td>0</td>\n",
       "      <td>0</td>\n",
       "      <td>0</td>\n",
       "      <td>0</td>\n",
       "      <td>0</td>\n",
       "      <td>...</td>\n",
       "      <td>0</td>\n",
       "      <td>0</td>\n",
       "      <td>0</td>\n",
       "      <td>0</td>\n",
       "      <td>0</td>\n",
       "      <td>0</td>\n",
       "      <td>0</td>\n",
       "      <td>0</td>\n",
       "      <td>0</td>\n",
       "      <td>0</td>\n",
       "    </tr>\n",
       "  </tbody>\n",
       "</table>\n",
       "<p>5 rows × 8023 columns</p>\n",
       "</div>"
      ],
      "text/plain": [
       "                            name  0  1  2  3  4  5  6  7  8  ...  8012  8013  \\\n",
       "0  arancini   italian rice balls  0  0  0  0  0  0  0  0  0  ...     0     0   \n",
       "1            easy fattoush salad  0  0  0  0  0  0  0  0  0  ...     0     0   \n",
       "2        alan s tandoori chicken  0  0  0  0  0  0  0  0  0  ...     0     0   \n",
       "3        mexican tacos al pastor  0  0  0  0  0  0  0  0  0  ...     0     0   \n",
       "4                      croquetas  0  0  0  0  0  0  0  0  0  ...     0     0   \n",
       "\n",
       "   8014  8015  8016  8017  8018  8019  8020  8021  \n",
       "0     0     0     0     0     0     0     0     0  \n",
       "1     0     0     0     0     0     0     0     0  \n",
       "2     0     0     0     0     0     0     0     0  \n",
       "3     0     0     0     0     0     0     0     0  \n",
       "4     0     0     0     0     0     0     0     0  \n",
       "\n",
       "[5 rows x 8023 columns]"
      ]
     },
     "execution_count": 121,
     "metadata": {},
     "output_type": "execute_result"
    }
   ],
   "source": [
    "df_ingredients = pd.DataFrame(data=ingredients_matrix,\n",
    "                              index=df_selected.name,\n",
    "                              #columns=ingredients.keys()\n",
    "                              )\n",
    "df_ingredients.reset_index(inplace=True)\n",
    "df_ingredients.head()"
   ]
  },
  {
   "cell_type": "markdown",
   "metadata": {},
   "source": [
    "### Testing the similarity function\n",
    "(with the selected recipes)"
   ]
  },
  {
   "cell_type": "code",
   "execution_count": 125,
   "metadata": {},
   "outputs": [],
   "source": [
    "ar_ingredients = df_ingredients.values"
   ]
  },
  {
   "cell_type": "code",
   "execution_count": 144,
   "metadata": {},
   "outputs": [
    {
     "data": {
      "text/plain": [
       "(44, 8023)"
      ]
     },
     "execution_count": 144,
     "metadata": {},
     "output_type": "execute_result"
    }
   ],
   "source": [
    "df_ingredients.shape"
   ]
  },
  {
   "cell_type": "code",
   "execution_count": 145,
   "metadata": {},
   "outputs": [
    {
     "name": "stdout",
     "output_type": "stream",
     "text": [
      "[[0.08333333]]\n",
      "CPU times: user 1.66 ms, sys: 1.97 ms, total: 3.63 ms\n",
      "Wall time: 3.44 ms\n"
     ]
    }
   ],
   "source": [
    "%%time\n",
    "print(cosine_similarity(ar_ingredients[0,1:].reshape(1, -1), ar_ingredients[1,1:].reshape(1, -1)))"
   ]
  },
  {
   "cell_type": "code",
   "execution_count": 129,
   "metadata": {},
   "outputs": [
    {
     "name": "stdout",
     "output_type": "stream",
     "text": [
      "CPU times: user 46.2 ms, sys: 18.4 ms, total: 64.7 ms\n",
      "Wall time: 28.7 ms\n"
     ]
    }
   ],
   "source": [
    "%%time\n",
    "msim_ingredients = cosine_similarity(ar_ingredients[:,1:], ar_ingredients[:,1:])"
   ]
  },
  {
   "cell_type": "code",
   "execution_count": 130,
   "metadata": {},
   "outputs": [
    {
     "data": {
      "text/plain": [
       "(44, 44)"
      ]
     },
     "execution_count": 130,
     "metadata": {},
     "output_type": "execute_result"
    }
   ],
   "source": [
    "msim_ingredients.shape"
   ]
  },
  {
   "cell_type": "markdown",
   "metadata": {},
   "source": [
    "#### Plotting the similarities Matrix"
   ]
  },
  {
   "cell_type": "code",
   "execution_count": 156,
   "metadata": {},
   "outputs": [
    {
     "data": {
      "image/png": "[encoded data removed]",
      "text/plain": [
       "<Figure size 1152x1152 with 1 Axes>"
      ]
     },
     "metadata": {
      "needs_background": "light"
     },
     "output_type": "display_data"
    }
   ],
   "source": [
    "plt.figure(figsize=(16, 16)) \n",
    "plt.imshow(msim_ingredients, interpolation='none')\n",
    "plt.show()"
   ]
  },
  {
   "cell_type": "markdown",
   "metadata": {},
   "source": [
    "#### Plotting the hierarquical cluster (Dendrogram)"
   ]
  },
  {
   "cell_type": "code",
   "execution_count": 154,
   "metadata": {},
   "outputs": [
    {
     "data": {
      "image/png": "[encoded data removed]",
      "text/plain": [
       "<Figure size 1152x1152 with 1 Axes>"
      ]
     },
     "metadata": {
      "needs_background": "light"
     },
     "output_type": "display_data"
    }
   ],
   "source": [
    "import scipy.cluster.hierarchy as shc\n",
    "plt.figure(figsize=(16, 16))  \n",
    "plt.title(\"Dendrograms\")  \n",
    "dend = shc.dendrogram(shc.linkage(ar_ingredients[:,1:], method='ward'), \n",
    "                      orientation='right', \n",
    "                      labels=df_ingredients.name.values)"
   ]
  },
  {
   "cell_type": "markdown",
   "metadata": {},
   "source": [
    "### Finding similar names for recipes\n",
    "#### (input for the search function)"
   ]
  },
  {
   "cell_type": "code",
   "execution_count": 157,
   "metadata": {},
   "outputs": [],
   "source": [
    "class Text_Cleaning_Utilities(object):\n",
    "    \"\"\"Tools for processing text into segments for further learning\"\"\"\n",
    "\n",
    "    @staticmethod\n",
    "    def text_to_wordlist(text, \n",
    "                         remove_stopwords=False, \n",
    "                         remove_non_letters=False, \n",
    "                         steeming=False):\n",
    "        '''Split a text into a list of words'''\n",
    "        #text = text.replace('-\\n','')\n",
    "        text = text.lower()\n",
    "        if remove_non_letters:\n",
    "            text = re.sub(\"[^-A-Za-z0-9_]\", \" \", text)\n",
    "        list_words = word_tokenize(text)\n",
    "        list_words = [w.strip(string.punctuation) for w in list_words if w not in string.punctuation]\n",
    "        list_words = [w for w in list_words if len(w) > 1]\n",
    "        if remove_stopwords:\n",
    "            stops = set(stopwords.words(\"english\"))\n",
    "            list_words = [w for w in list_words if w not in stops]\n",
    "        if steeming:\n",
    "            stemmer = PorterStemmer()\n",
    "            list_words = [stemmer.stem(item) for item in list_words]\n",
    "        return list_words\n",
    "    \n",
    "    @staticmethod\n",
    "    def df_to_list_of_texts(dataframe, column, \n",
    "                            remove_stopwords=False, \n",
    "                            remove_non_letters=False, \n",
    "                            steeming=False):\n",
    "        clean_texts = []\n",
    "        for txt_id in range(len(dataframe[column])):\n",
    "            clean_texts.append(' '.join(Text_Cleaning_Utilities.text_to_wordlist(dataframe[column][txt_id],\n",
    "                                                                                 remove_stopwords=remove_stopwords,\n",
    "                                                                                 remove_non_letters=remove_non_letters,\n",
    "                                                                                 steeming=steeming)))\n",
    "            \n",
    "        return clean_texts\n",
    "\n",
    "    @staticmethod\n",
    "    def df_to_list_of_tokens(dataframe, column, \n",
    "                             remove_stopwords=False, \n",
    "                             remove_non_letters=False, \n",
    "                             steeming=False):\n",
    "        clean_texts = []\n",
    "        for txt_id in range(len(dataframe[column])):\n",
    "            clean_texts.append(Text_Cleaning_Utilities.text_to_wordlist(dataframe[column][txt_id],\n",
    "                                                                        remove_stopwords=remove_stopwords,\n",
    "                                                                        remove_non_letters=remove_non_letters,\n",
    "                                                                        steeming=steeming))\n",
    "            \n",
    "        return clean_texts"
   ]
  },
  {
   "cell_type": "code",
   "execution_count": 159,
   "metadata": {},
   "outputs": [],
   "source": [
    "recipes = Text_Cleaning_Utilities.df_to_list_of_texts(df_selected,\n",
    "                                                      'name',\n",
    "                                                      remove_stopwords=True,)"
   ]
  },
  {
   "cell_type": "code",
   "execution_count": 160,
   "metadata": {},
   "outputs": [
    {
     "data": {
      "text/plain": [
       "['arancini italian rice balls',\n",
       " 'easy fattoush salad',\n",
       " 'alan tandoori chicken',\n",
       " 'mexican tacos al pastor',\n",
       " 'croquetas',\n",
       " 'best pizza margherita',\n",
       " 'acadia ratatouille',\n",
       " 'boneless breast chicken saltimbocca',\n",
       " 'amanda milk chocolate frosting',\n",
       " 'ariana pozole']"
      ]
     },
     "execution_count": 160,
     "metadata": {},
     "output_type": "execute_result"
    }
   ],
   "source": [
    "recipes[0:10]"
   ]
  },
  {
   "cell_type": "code",
   "execution_count": 163,
   "metadata": {},
   "outputs": [],
   "source": [
    "vectorizer_tf = CountVectorizer(input='content', \n",
    "                               encoding='utf-8', \n",
    "                               decode_error='strict', \n",
    "                               strip_accents=None, \n",
    "                               lowercase=True, \n",
    "                               preprocessor=None, \n",
    "                               tokenizer=None, \n",
    "                               stop_words=None, \n",
    "                               #token_pattern='(?u)\\b\\w\\w+\\b',\n",
    "                               ngram_range=(1,1),\n",
    "                               analyzer='word', \n",
    "                               max_df=1.0, \n",
    "                               min_df=1, \n",
    "                               max_features=5000, \n",
    "                               vocabulary=None, \n",
    "                               binary=False, \n",
    "                               dtype=np.int64,\n",
    "                              )\n",
    "\n",
    "vectorizer_tfidf = TfidfVectorizer(input='content',\n",
    "                                  #encoding='utf-8',\n",
    "                                  decode_error='strict',\n",
    "                                  strip_accents=None,\n",
    "                                  lowercase=True,\n",
    "                                  preprocessor=None,\n",
    "                                  tokenizer=None,\n",
    "                                  analyzer='word',\n",
    "                                  stop_words=None,\n",
    "                                  #token_pattern='(?u)\\b\\w\\w+\\b',\n",
    "                                  ngram_range=(1, 1),\n",
    "                                  max_df=1.0,\n",
    "                                  min_df=1,\n",
    "                                  max_features=5000,\n",
    "                                  vocabulary=None, \n",
    "                                  binary=False, \n",
    "                                  dtype=np.int64,\n",
    "                                  norm='l2',\n",
    "                                  use_idf=True,\n",
    "                                  smooth_idf=True,\n",
    "                                  sublinear_tf=True)"
   ]
  },
  {
   "cell_type": "code",
   "execution_count": 164,
   "metadata": {},
   "outputs": [
    {
     "name": "stdout",
     "output_type": "stream",
     "text": [
      "(44, 138)\n"
     ]
    }
   ],
   "source": [
    "recipes_vectors = vectorizer_tf.fit_transform(recipes)\n",
    "recipes_vectors = recipes_vectors.toarray() # Numpy arrays are easy to work with\n",
    "print(recipes_vectors.shape)"
   ]
  },
  {
   "cell_type": "code",
   "execution_count": 166,
   "metadata": {},
   "outputs": [
    {
     "data": {
      "text/plain": [
       "array([0, 0, 0, 0, 0, 0, 0, 0, 0, 0, 0, 0, 0, 0, 0, 1, 0, 0, 0, 0, 0, 0,\n",
       "       1, 0, 0, 0, 0, 0, 0, 0, 0, 0, 0, 0, 0, 0, 0, 0, 0, 0, 0, 0, 0, 0,\n",
       "       0, 0, 0, 0, 0, 0, 0, 0, 0, 0, 0, 0, 0, 0, 0, 0, 0, 0, 0, 0, 0, 0,\n",
       "       0, 0, 0, 0, 0, 1, 0, 0, 0, 0, 0, 0, 0, 0, 0, 0, 0, 0, 0, 0, 0, 0,\n",
       "       0, 0, 0, 0, 0, 0, 0, 0, 0, 0, 0, 0, 0, 0, 0, 0, 0, 0, 1, 0, 0, 0,\n",
       "       0, 0, 0, 0, 0, 0, 0, 0, 0, 0, 0, 0, 0, 0, 0, 0, 0, 0, 0, 0, 0, 0,\n",
       "       0, 0, 0, 0, 0, 0])"
      ]
     },
     "execution_count": 166,
     "metadata": {},
     "output_type": "execute_result"
    }
   ],
   "source": [
    "recipes_vectors[0]"
   ]
  },
  {
   "cell_type": "code",
   "execution_count": 167,
   "metadata": {},
   "outputs": [
    {
     "name": "stdout",
     "output_type": "stream",
     "text": [
      "CPU times: user 1.26 ms, sys: 1.11 ms, total: 2.37 ms\n",
      "Wall time: 1.39 ms\n"
     ]
    }
   ],
   "source": [
    "%%time\n",
    "msim_names = cosine_similarity(recipes_vectors, recipes_vectors)"
   ]
  },
  {
   "cell_type": "code",
   "execution_count": 169,
   "metadata": {},
   "outputs": [
    {
     "data": {
      "text/plain": [
       "(44, 44)"
      ]
     },
     "execution_count": 169,
     "metadata": {},
     "output_type": "execute_result"
    }
   ],
   "source": [
    "msim_names.shape"
   ]
  },
  {
   "cell_type": "markdown",
   "metadata": {},
   "source": [
    "#### Plotting the similarities Matrix"
   ]
  },
  {
   "cell_type": "code",
   "execution_count": 170,
   "metadata": {},
   "outputs": [
    {
     "data": {
      "image/png": "[encoded data removed]",
      "text/plain": [
       "<Figure size 1152x1152 with 1 Axes>"
      ]
     },
     "metadata": {
      "needs_background": "light"
     },
     "output_type": "display_data"
    }
   ],
   "source": [
    "plt.figure(figsize=(16, 16)) \n",
    "plt.imshow(msim_names, interpolation='none')\n",
    "plt.show()"
   ]
  },
  {
   "cell_type": "markdown",
   "metadata": {},
   "source": [
    "#### Plotting the hierarquical cluster (Dendrogram)"
   ]
  },
  {
   "cell_type": "code",
   "execution_count": 171,
   "metadata": {},
   "outputs": [
    {
     "data": {
      "image/png": "[encoded data removed]",
      "text/plain": [
       "<Figure size 1152x1152 with 1 Axes>"
      ]
     },
     "metadata": {
      "needs_background": "light"
     },
     "output_type": "display_data"
    }
   ],
   "source": [
    "import scipy.cluster.hierarchy as shc\n",
    "plt.figure(figsize=(16, 16))  \n",
    "plt.title(\"Dendrograms\")  \n",
    "dend = shc.dendrogram(shc.linkage(msim_names, method='ward'), \n",
    "                      orientation='right', \n",
    "                      labels=df_ingredients.name.values)"
   ]
  },
  {
   "cell_type": "code",
   "execution_count": null,
   "metadata": {},
   "outputs": [],
   "source": []
  }
 ],
 "metadata": {
  "kernelspec": {
   "display_name": "Python 3",
   "language": "python",
   "name": "python3"
  },
  "language_info": {
   "codemirror_mode": {
    "name": "ipython",
    "version": 3
   },
   "file_extension": ".py",
   "mimetype": "text/x-python",
   "name": "python",
   "nbconvert_exporter": "python",
   "pygments_lexer": "ipython3",
   "version": "3.7.3"
  }
 },
 "nbformat": 4,
 "nbformat_minor": 4
}
